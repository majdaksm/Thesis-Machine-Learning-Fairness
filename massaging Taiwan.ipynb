{
 "cells": [
  {
   "cell_type": "code",
   "execution_count": 1,
   "metadata": {},
   "outputs": [],
   "source": [
    "import numpy as np\n",
    "import pandas as pd\n",
    "import sklearn \n",
    "import imblearn \n",
    "from sklearn.metrics import classification_report, confusion_matrix\n",
    "import math \n",
    "import matplotlib.pyplot as plt \n",
    "import seaborn as sns\n",
    "sns.set(style=\"white\")\n",
    "sns.set(style=\"whitegrid\", color_codes=True)"
   ]
  },
  {
   "cell_type": "code",
   "execution_count": 2,
   "metadata": {},
   "outputs": [
    {
     "name": "stdout",
     "output_type": "stream",
     "text": [
      "       LIMIT_BAL  SEX  EDUCATION  MARRIAGE  Age Group  PAY_0  PAY_2  PAY_3  \\\n",
      "0          20000    1          2         1          0      2      2     -1   \n",
      "1         120000    1          2         2          0     -1      2      0   \n",
      "2          90000    1          2         2          0      0      0      0   \n",
      "3          50000    1          2         1          0      0      0      0   \n",
      "4          50000    0          2         1          1     -1      0     -1   \n",
      "...          ...  ...        ...       ...        ...    ...    ...    ...   \n",
      "29995     220000    0          3         1          0      0      0      0   \n",
      "29996     150000    0          3         2          0     -1     -1     -1   \n",
      "29997      30000    0          2         2          0      4      3      2   \n",
      "29998      80000    0          3         1          0      1     -1      0   \n",
      "29999      50000    0          2         1          0      0      0      0   \n",
      "\n",
      "       PAY_4  PAY_5  ...  BILL_AMT4  BILL_AMT5  BILL_AMT6  PAY_AMT1  PAY_AMT2  \\\n",
      "0         -1     -2  ...          0          0          0         0       689   \n",
      "1          0      0  ...       3272       3455       3261         0      1000   \n",
      "2          0      0  ...      14331      14948      15549      1518      1500   \n",
      "3          0      0  ...      28314      28959      29547      2000      2019   \n",
      "4          0      0  ...      20940      19146      19131      2000     36681   \n",
      "...      ...    ...  ...        ...        ...        ...       ...       ...   \n",
      "29995      0      0  ...      88004      31237      15980      8500     20000   \n",
      "29996     -1      0  ...       8979       5190          0      1837      3526   \n",
      "29997     -1      0  ...      20878      20582      19357         0         0   \n",
      "29998      0      0  ...      52774      11855      48944     85900      3409   \n",
      "29999      0      0  ...      36535      32428      15313      2078      1800   \n",
      "\n",
      "       PAY_AMT3  PAY_AMT4  PAY_AMT5  PAY_AMT6  Creditworthiness  \n",
      "0             0         0         0         0                 0  \n",
      "1          1000      1000         0      2000                 0  \n",
      "2          1000      1000      1000      5000                 1  \n",
      "3          1200      1100      1069      1000                 1  \n",
      "4         10000      9000       689       679                 1  \n",
      "...         ...       ...       ...       ...               ...  \n",
      "29995      5003      3047      5000      1000                 1  \n",
      "29996      8998       129         0         0                 1  \n",
      "29997     22000      4200      2000      3100                 0  \n",
      "29998      1178      1926     52964      1804                 0  \n",
      "29999      1430      1000      1000      1000                 0  \n",
      "\n",
      "[30000 rows x 24 columns]\n"
     ]
    }
   ],
   "source": [
    "taiwan_data = pd.read_csv('taiwan_data.csv')\n",
    "print(taiwan_data)"
   ]
  },
  {
   "cell_type": "code",
   "execution_count": 3,
   "metadata": {},
   "outputs": [],
   "source": [
    "### set sensitive attribute equal to 'SEX' or 'Age Group' ###\n",
    "\n",
    "sen_att = 'Age Group'"
   ]
  },
  {
   "cell_type": "code",
   "execution_count": 4,
   "metadata": {},
   "outputs": [],
   "source": [
    "#split data in a test and train set\n",
    "\n",
    "from sklearn.model_selection import train_test_split\n",
    "X = taiwan_data.loc[:, taiwan_data.columns != 'Creditworthiness']\n",
    "y = taiwan_data.loc[:, taiwan_data.columns == 'Creditworthiness']\n",
    "\n",
    "X_train, X_test, y_train, y_test = train_test_split(X, y, test_size=0.2, stratify = y, random_state=0)\n",
    "\n",
    "#apply SMOTE to the trainingset\n",
    "from imblearn.over_sampling import SMOTE\n",
    "os = SMOTE(random_state=0)\n",
    "\n",
    "columns = X_train.columns\n",
    "os_data_X, os_data_y=os.fit_sample(X_train, y_train)\n",
    "os_data_X = pd.DataFrame(data=os_data_X,columns=columns )\n",
    "os_data_y= pd.DataFrame(data=os_data_y,columns=['Creditworthiness'])\n",
    "\n"
   ]
  },
  {
   "cell_type": "code",
   "execution_count": 5,
   "metadata": {},
   "outputs": [
    {
     "data": {
      "text/plain": [
       "(37382, 23)"
      ]
     },
     "execution_count": 5,
     "metadata": {},
     "output_type": "execute_result"
    }
   ],
   "source": [
    "os_data_X.shape"
   ]
  },
  {
   "cell_type": "code",
   "execution_count": 6,
   "metadata": {},
   "outputs": [
    {
     "name": "stdout",
     "output_type": "stream",
     "text": [
      "       LIMIT_BAL  SEX  EDUCATION  MARRIAGE  Age Group  PAY_0  PAY_2  PAY_3  \\\n",
      "0         420000    1          2         2          0      0      0      0   \n",
      "1         230000    1          5         1          0     -1     -1     -1   \n",
      "2          30000    1          2         1          0      2      2      2   \n",
      "3          30000    1          2         1          1      2      2      2   \n",
      "4         390000    1          1         1          0     -1      0     -1   \n",
      "...          ...  ...        ...       ...        ...    ...    ...    ...   \n",
      "37377      20000    1          3         1          0      1     -2     -2   \n",
      "37378      10000    0          2         2          0      0      0      0   \n",
      "37379     300000    0          1         1          0     -1     -1     -1   \n",
      "37380      80000    0          2         2          0      2      2      2   \n",
      "37381      20000    0          1         2          0     -1      0      0   \n",
      "\n",
      "       PAY_4  PAY_5  ...  BILL_AMT3  BILL_AMT4  BILL_AMT5  BILL_AMT6  \\\n",
      "0          0      0  ...     278407     284777     301438     308571   \n",
      "1         -1     -2  ...       8100      -2900      -2900      -2900   \n",
      "2          2      2  ...      17272      18131      17711      19007   \n",
      "3          2      3  ...      23057      24506      24711      24178   \n",
      "4         -1     -1  ...      15216      16659      35241      14216   \n",
      "...      ...    ...  ...        ...        ...        ...        ...   \n",
      "37377     -2     -2  ...          0          0          0          0   \n",
      "37378      0      0  ...       8471       9491       9698       9656   \n",
      "37379     -1     -2  ...        345       -429       -628       -828   \n",
      "37380      1      1  ...      79116      78210      82175      80026   \n",
      "37381      0      0  ...       3657       6133       5658       5067   \n",
      "\n",
      "       PAY_AMT1  PAY_AMT2  PAY_AMT3  PAY_AMT4  PAY_AMT5  PAY_AMT6  \n",
      "0         10000     10200     11000     21500     12000     15000  \n",
      "1             0      8100         0         0         0    110256  \n",
      "2          3141         0      1434         0      1581      1705  \n",
      "3          1300      1082      2131       900         0      2200  \n",
      "4         42000     15224     16659     35241     14216     72944  \n",
      "...         ...       ...       ...       ...       ...       ...  \n",
      "37377         0         0         0         0         0         0  \n",
      "37378      7228      1120      1192       323       972       480  \n",
      "37379       136       410         0         0         0      1390  \n",
      "37380      8625      2039      1210      6730         0      3624  \n",
      "37381       764      1982      3087       351      1912       457  \n",
      "\n",
      "[37382 rows x 23 columns]\n"
     ]
    }
   ],
   "source": [
    "print(os_data_X)"
   ]
  },
  {
   "cell_type": "code",
   "execution_count": 8,
   "metadata": {},
   "outputs": [
    {
     "name": "stderr",
     "output_type": "stream",
     "text": [
      "<ipython-input-8-cb4c76803ffd>:6: DataConversionWarning: A column-vector y was passed when a 1d array was expected. Please change the shape of y to (n_samples, ), for example using ravel().\n",
      "  knn.fit(os_data_X, os_data_y)\n"
     ]
    },
    {
     "name": "stdout",
     "output_type": "stream",
     "text": [
      "              precision    recall  f1-score   support\n",
      "\n",
      "           0       0.70      0.86      0.77     18691\n",
      "           1       0.82      0.63      0.71     18691\n",
      "\n",
      "    accuracy                           0.75     37382\n",
      "   macro avg       0.76      0.75      0.74     37382\n",
      "weighted avg       0.76      0.75      0.74     37382\n",
      "\n"
     ]
    }
   ],
   "source": [
    "from sklearn.neighbors import NearestNeighbors\n",
    "from sklearn.neighbors import KNeighborsClassifier\n",
    "\n",
    "#Create KNN Classifier as a ranker \n",
    "knn = KNeighborsClassifier(n_neighbors = 15)\n",
    "knn.fit(os_data_X, os_data_y)\n",
    "\n",
    "from sklearn.neighbors import NearestNeighbors\n",
    "from sklearn.neighbors import KNeighborsClassifier\n",
    "y_pred = knn.predict(os_data_X)\n",
    "\n",
    "\n",
    "from sklearn.metrics import classification_report\n",
    "print(classification_report(os_data_y, y_pred))\n",
    "\n",
    "\n"
   ]
  },
  {
   "cell_type": "code",
   "execution_count": 9,
   "metadata": {},
   "outputs": [
    {
     "name": "stdout",
     "output_type": "stream",
     "text": [
      "[[16138  2553]\n",
      " [ 6889 11802]]\n"
     ]
    }
   ],
   "source": [
    "matrix = sklearn.metrics.confusion_matrix(os_data_y, y_pred)\n",
    "sklearn.metrics.accuracy_score(os_data_y, y_pred)\n",
    "print(matrix)"
   ]
  },
  {
   "cell_type": "code",
   "execution_count": 10,
   "metadata": {},
   "outputs": [
    {
     "name": "stdout",
     "output_type": "stream",
     "text": [
      "       LIMIT_BAL  SEX  EDUCATION  MARRIAGE  Age Group  PAY_0  PAY_2  PAY_3  \\\n",
      "0         420000    1          2         2          0      0      0      0   \n",
      "1         230000    1          5         1          0     -1     -1     -1   \n",
      "2          30000    1          2         1          0      2      2      2   \n",
      "3          30000    1          2         1          1      2      2      2   \n",
      "4         390000    1          1         1          0     -1      0     -1   \n",
      "...          ...  ...        ...       ...        ...    ...    ...    ...   \n",
      "37377      20000    1          3         1          0      1     -2     -2   \n",
      "37378      10000    0          2         2          0      0      0      0   \n",
      "37379     300000    0          1         1          0     -1     -1     -1   \n",
      "37380      80000    0          2         2          0      2      2      2   \n",
      "37381      20000    0          1         2          0     -1      0      0   \n",
      "\n",
      "       PAY_4  PAY_5  ...  BILL_AMT5  BILL_AMT6  PAY_AMT1  PAY_AMT2  PAY_AMT3  \\\n",
      "0          0      0  ...     301438     308571     10000     10200     11000   \n",
      "1         -1     -2  ...      -2900      -2900         0      8100         0   \n",
      "2          2      2  ...      17711      19007      3141         0      1434   \n",
      "3          2      3  ...      24711      24178      1300      1082      2131   \n",
      "4         -1     -1  ...      35241      14216     42000     15224     16659   \n",
      "...      ...    ...  ...        ...        ...       ...       ...       ...   \n",
      "37377     -2     -2  ...          0          0         0         0         0   \n",
      "37378      0      0  ...       9698       9656      7228      1120      1192   \n",
      "37379     -1     -2  ...       -628       -828       136       410         0   \n",
      "37380      1      1  ...      82175      80026      8625      2039      1210   \n",
      "37381      0      0  ...       5658       5067       764      1982      3087   \n",
      "\n",
      "       PAY_AMT4  PAY_AMT5  PAY_AMT6  Creditworthiness      prob  \n",
      "0         21500     12000     15000                 1  0.200000  \n",
      "1             0         0    110256                 1  1.000000  \n",
      "2             0      1581      1705                 0  0.133333  \n",
      "3           900         0      2200                 0  0.200000  \n",
      "4         35241     14216     72944                 1  0.933333  \n",
      "...         ...       ...       ...               ...       ...  \n",
      "37377         0         0         0                 0  0.066667  \n",
      "37378       323       972       480                 0  0.400000  \n",
      "37379         0         0      1390                 0  0.400000  \n",
      "37380      6730         0      3624                 0  0.066667  \n",
      "37381       351      1912       457                 0  0.133333  \n",
      "\n",
      "[37382 rows x 25 columns]\n"
     ]
    }
   ],
   "source": [
    "### append the ranker results to the dataset ####\n",
    "\n",
    "result = pd.concat([os_data_X, os_data_y.reindex(os_data_X.index)], axis=1)\n",
    "prob  = knn.predict_proba(os_data_X)[:,1]\n",
    "\n",
    "\n",
    "result['prob'] = prob\n",
    "print(result)\n",
    "#df_test = [os_data_X, os_data_y, df_prob]\n"
   ]
  },
  {
   "cell_type": "code",
   "execution_count": 11,
   "metadata": {},
   "outputs": [
    {
     "name": "stdout",
     "output_type": "stream",
     "text": [
      "0.6932114882506527\n",
      "0.4873446585338046\n",
      "women neg 17986 women pos 17098 men neg 705 men pos 1593\n"
     ]
    },
    {
     "data": {
      "text/plain": [
       "0.2058668297168481"
      ]
     },
     "execution_count": 11,
     "metadata": {},
     "output_type": "execute_result"
    }
   ],
   "source": [
    "## building the discrimination formula: \n",
    "\n",
    "def disc(df, S, y, sv, nv):\n",
    "    sum_sen_neg = 0\n",
    "    sum_sen_pos = 0\n",
    "    sum_non_neg = 0\n",
    "    sum_non_pos = 0\n",
    "\n",
    "    for row in range(len(df)) :\n",
    "        if df.at[row, S] == sv and df.at[row, y] == 0:\n",
    "            sum_sen_neg +=1\n",
    "        elif df.at[row, S] == sv and df.at[row, y] == 1: \n",
    "            sum_sen_pos += 1\n",
    "        elif df.at[row, S] == nv and df.at[row, y] == 0: \n",
    "            sum_non_neg += 1\n",
    "        else:\n",
    "            sum_non_pos += 1\n",
    "        #print(sum_non_neg, sum_non_pos)\n",
    "    \n",
    "    sum_sen = sum_sen_neg + sum_sen_pos\n",
    "    sum_non = sum_non_neg + sum_non_pos\n",
    "    \n",
    "    disc_val = (abs(sum_non_pos/sum_non)-abs(sum_sen_pos/sum_sen)) \n",
    "    print(sum_non_pos/sum_non)\n",
    "    print(sum_sen_pos/sum_sen)\n",
    "    print(\"women neg\",sum_sen_neg,\"women pos\", sum_sen_pos, \"men neg\", sum_non_neg,  \"men pos\",sum_non_pos)\n",
    "    return disc_val\n",
    "\n",
    "#TEST\n",
    "disc(result, sen_att, 'Creditworthiness', 0, 1)\n"
   ]
  },
  {
   "cell_type": "code",
   "execution_count": 12,
   "metadata": {},
   "outputs": [
    {
     "name": "stdout",
     "output_type": "stream",
     "text": [
      "Men count 35084\n",
      "0.6932114882506527\n",
      "0.4873446585338046\n",
      "women neg 17986 women pos 17098 men neg 705 men pos 1593\n",
      "444\n"
     ]
    }
   ],
   "source": [
    "#sensitive value counts \n",
    "\n",
    "def count_s_val(df, S, v):\n",
    "    count = 0\n",
    "    for row in range(len(df)):\n",
    "        if df.at[row, S] == v: \n",
    "            count += 1\n",
    "        else:\n",
    "            pass\n",
    "    return count \n",
    "\n",
    "men_count = count_s_val(result, sen_att, 0)    \n",
    "print ('Men count',men_count)\n",
    "\n",
    "#define size of values for massaging M\n",
    "\n",
    "M = math.ceil(((disc(result, sen_att, 'Creditworthiness', 0, 1)) * (count_s_val(result, sen_att, 0)) *  (count_s_val(result, sen_att, 1)))/((count_s_val(result, sen_att, 0)) +  (count_s_val(result, sen_att, 1))))\n",
    "print(M)"
   ]
  },
  {
   "cell_type": "code",
   "execution_count": 13,
   "metadata": {},
   "outputs": [
    {
     "data": {
      "text/html": [
       "<div>\n",
       "<style scoped>\n",
       "    .dataframe tbody tr th:only-of-type {\n",
       "        vertical-align: middle;\n",
       "    }\n",
       "\n",
       "    .dataframe tbody tr th {\n",
       "        vertical-align: top;\n",
       "    }\n",
       "\n",
       "    .dataframe thead th {\n",
       "        text-align: right;\n",
       "    }\n",
       "</style>\n",
       "<table border=\"1\" class=\"dataframe\">\n",
       "  <thead>\n",
       "    <tr style=\"text-align: right;\">\n",
       "      <th></th>\n",
       "      <th>LIMIT_BAL</th>\n",
       "      <th>SEX</th>\n",
       "      <th>EDUCATION</th>\n",
       "      <th>MARRIAGE</th>\n",
       "      <th>Age Group</th>\n",
       "      <th>PAY_0</th>\n",
       "      <th>PAY_2</th>\n",
       "      <th>PAY_3</th>\n",
       "      <th>PAY_4</th>\n",
       "      <th>PAY_5</th>\n",
       "      <th>...</th>\n",
       "      <th>BILL_AMT5</th>\n",
       "      <th>BILL_AMT6</th>\n",
       "      <th>PAY_AMT1</th>\n",
       "      <th>PAY_AMT2</th>\n",
       "      <th>PAY_AMT3</th>\n",
       "      <th>PAY_AMT4</th>\n",
       "      <th>PAY_AMT5</th>\n",
       "      <th>PAY_AMT6</th>\n",
       "      <th>Creditworthiness</th>\n",
       "      <th>prob</th>\n",
       "    </tr>\n",
       "  </thead>\n",
       "  <tbody>\n",
       "    <tr>\n",
       "      <th>0</th>\n",
       "      <td>230000</td>\n",
       "      <td>1</td>\n",
       "      <td>5</td>\n",
       "      <td>1</td>\n",
       "      <td>0</td>\n",
       "      <td>-1</td>\n",
       "      <td>-1</td>\n",
       "      <td>-1</td>\n",
       "      <td>-1</td>\n",
       "      <td>-2</td>\n",
       "      <td>...</td>\n",
       "      <td>-2900</td>\n",
       "      <td>-2900</td>\n",
       "      <td>0</td>\n",
       "      <td>8100</td>\n",
       "      <td>0</td>\n",
       "      <td>0</td>\n",
       "      <td>0</td>\n",
       "      <td>110256</td>\n",
       "      <td>1</td>\n",
       "      <td>1.0</td>\n",
       "    </tr>\n",
       "    <tr>\n",
       "      <th>1</th>\n",
       "      <td>610000</td>\n",
       "      <td>1</td>\n",
       "      <td>1</td>\n",
       "      <td>2</td>\n",
       "      <td>0</td>\n",
       "      <td>0</td>\n",
       "      <td>0</td>\n",
       "      <td>0</td>\n",
       "      <td>0</td>\n",
       "      <td>0</td>\n",
       "      <td>...</td>\n",
       "      <td>105301</td>\n",
       "      <td>105965</td>\n",
       "      <td>6540</td>\n",
       "      <td>2100</td>\n",
       "      <td>2150</td>\n",
       "      <td>50000</td>\n",
       "      <td>4700</td>\n",
       "      <td>2000</td>\n",
       "      <td>1</td>\n",
       "      <td>1.0</td>\n",
       "    </tr>\n",
       "    <tr>\n",
       "      <th>2</th>\n",
       "      <td>320000</td>\n",
       "      <td>1</td>\n",
       "      <td>2</td>\n",
       "      <td>2</td>\n",
       "      <td>0</td>\n",
       "      <td>-1</td>\n",
       "      <td>-1</td>\n",
       "      <td>-1</td>\n",
       "      <td>-1</td>\n",
       "      <td>-1</td>\n",
       "      <td>...</td>\n",
       "      <td>2655</td>\n",
       "      <td>1070</td>\n",
       "      <td>2610</td>\n",
       "      <td>9439</td>\n",
       "      <td>2493</td>\n",
       "      <td>2655</td>\n",
       "      <td>0</td>\n",
       "      <td>5682</td>\n",
       "      <td>1</td>\n",
       "      <td>1.0</td>\n",
       "    </tr>\n",
       "    <tr>\n",
       "      <th>3</th>\n",
       "      <td>20000</td>\n",
       "      <td>1</td>\n",
       "      <td>3</td>\n",
       "      <td>2</td>\n",
       "      <td>0</td>\n",
       "      <td>-1</td>\n",
       "      <td>-1</td>\n",
       "      <td>-1</td>\n",
       "      <td>0</td>\n",
       "      <td>0</td>\n",
       "      <td>...</td>\n",
       "      <td>18430</td>\n",
       "      <td>400</td>\n",
       "      <td>1165</td>\n",
       "      <td>19325</td>\n",
       "      <td>386</td>\n",
       "      <td>369</td>\n",
       "      <td>400</td>\n",
       "      <td>5125</td>\n",
       "      <td>1</td>\n",
       "      <td>1.0</td>\n",
       "    </tr>\n",
       "    <tr>\n",
       "      <th>4</th>\n",
       "      <td>170000</td>\n",
       "      <td>0</td>\n",
       "      <td>2</td>\n",
       "      <td>1</td>\n",
       "      <td>0</td>\n",
       "      <td>0</td>\n",
       "      <td>0</td>\n",
       "      <td>0</td>\n",
       "      <td>0</td>\n",
       "      <td>0</td>\n",
       "      <td>...</td>\n",
       "      <td>0</td>\n",
       "      <td>51269</td>\n",
       "      <td>1675</td>\n",
       "      <td>1500</td>\n",
       "      <td>1007</td>\n",
       "      <td>0</td>\n",
       "      <td>51269</td>\n",
       "      <td>1865</td>\n",
       "      <td>1</td>\n",
       "      <td>1.0</td>\n",
       "    </tr>\n",
       "    <tr>\n",
       "      <th>...</th>\n",
       "      <td>...</td>\n",
       "      <td>...</td>\n",
       "      <td>...</td>\n",
       "      <td>...</td>\n",
       "      <td>...</td>\n",
       "      <td>...</td>\n",
       "      <td>...</td>\n",
       "      <td>...</td>\n",
       "      <td>...</td>\n",
       "      <td>...</td>\n",
       "      <td>...</td>\n",
       "      <td>...</td>\n",
       "      <td>...</td>\n",
       "      <td>...</td>\n",
       "      <td>...</td>\n",
       "      <td>...</td>\n",
       "      <td>...</td>\n",
       "      <td>...</td>\n",
       "      <td>...</td>\n",
       "      <td>...</td>\n",
       "      <td>...</td>\n",
       "    </tr>\n",
       "    <tr>\n",
       "      <th>37377</th>\n",
       "      <td>70000</td>\n",
       "      <td>0</td>\n",
       "      <td>2</td>\n",
       "      <td>1</td>\n",
       "      <td>1</td>\n",
       "      <td>2</td>\n",
       "      <td>2</td>\n",
       "      <td>2</td>\n",
       "      <td>2</td>\n",
       "      <td>2</td>\n",
       "      <td>...</td>\n",
       "      <td>45222</td>\n",
       "      <td>46146</td>\n",
       "      <td>2027</td>\n",
       "      <td>2000</td>\n",
       "      <td>1827</td>\n",
       "      <td>1827</td>\n",
       "      <td>1800</td>\n",
       "      <td>1754</td>\n",
       "      <td>0</td>\n",
       "      <td>0.0</td>\n",
       "    </tr>\n",
       "    <tr>\n",
       "      <th>37378</th>\n",
       "      <td>50000</td>\n",
       "      <td>0</td>\n",
       "      <td>2</td>\n",
       "      <td>1</td>\n",
       "      <td>1</td>\n",
       "      <td>2</td>\n",
       "      <td>0</td>\n",
       "      <td>0</td>\n",
       "      <td>2</td>\n",
       "      <td>1</td>\n",
       "      <td>...</td>\n",
       "      <td>13592</td>\n",
       "      <td>13362</td>\n",
       "      <td>1582</td>\n",
       "      <td>1879</td>\n",
       "      <td>120</td>\n",
       "      <td>1175</td>\n",
       "      <td>120</td>\n",
       "      <td>555</td>\n",
       "      <td>0</td>\n",
       "      <td>0.0</td>\n",
       "    </tr>\n",
       "    <tr>\n",
       "      <th>37379</th>\n",
       "      <td>30000</td>\n",
       "      <td>0</td>\n",
       "      <td>1</td>\n",
       "      <td>1</td>\n",
       "      <td>1</td>\n",
       "      <td>0</td>\n",
       "      <td>0</td>\n",
       "      <td>0</td>\n",
       "      <td>0</td>\n",
       "      <td>-1</td>\n",
       "      <td>...</td>\n",
       "      <td>-300</td>\n",
       "      <td>-300</td>\n",
       "      <td>1395</td>\n",
       "      <td>1343</td>\n",
       "      <td>524</td>\n",
       "      <td>0</td>\n",
       "      <td>0</td>\n",
       "      <td>0</td>\n",
       "      <td>0</td>\n",
       "      <td>0.0</td>\n",
       "    </tr>\n",
       "    <tr>\n",
       "      <th>37380</th>\n",
       "      <td>50000</td>\n",
       "      <td>0</td>\n",
       "      <td>2</td>\n",
       "      <td>2</td>\n",
       "      <td>1</td>\n",
       "      <td>0</td>\n",
       "      <td>0</td>\n",
       "      <td>0</td>\n",
       "      <td>0</td>\n",
       "      <td>0</td>\n",
       "      <td>...</td>\n",
       "      <td>18151</td>\n",
       "      <td>19463</td>\n",
       "      <td>2221</td>\n",
       "      <td>2015</td>\n",
       "      <td>904</td>\n",
       "      <td>727</td>\n",
       "      <td>2018</td>\n",
       "      <td>672</td>\n",
       "      <td>0</td>\n",
       "      <td>0.0</td>\n",
       "    </tr>\n",
       "    <tr>\n",
       "      <th>37381</th>\n",
       "      <td>30000</td>\n",
       "      <td>0</td>\n",
       "      <td>3</td>\n",
       "      <td>1</td>\n",
       "      <td>1</td>\n",
       "      <td>1</td>\n",
       "      <td>2</td>\n",
       "      <td>3</td>\n",
       "      <td>1</td>\n",
       "      <td>2</td>\n",
       "      <td>...</td>\n",
       "      <td>2576</td>\n",
       "      <td>2465</td>\n",
       "      <td>0</td>\n",
       "      <td>0</td>\n",
       "      <td>1325</td>\n",
       "      <td>1381</td>\n",
       "      <td>759</td>\n",
       "      <td>138</td>\n",
       "      <td>0</td>\n",
       "      <td>0.0</td>\n",
       "    </tr>\n",
       "  </tbody>\n",
       "</table>\n",
       "<p>37382 rows × 25 columns</p>\n",
       "</div>"
      ],
      "text/plain": [
       "       LIMIT_BAL  SEX  EDUCATION  MARRIAGE  Age Group  PAY_0  PAY_2  PAY_3  \\\n",
       "0         230000    1          5         1          0     -1     -1     -1   \n",
       "1         610000    1          1         2          0      0      0      0   \n",
       "2         320000    1          2         2          0     -1     -1     -1   \n",
       "3          20000    1          3         2          0     -1     -1     -1   \n",
       "4         170000    0          2         1          0      0      0      0   \n",
       "...          ...  ...        ...       ...        ...    ...    ...    ...   \n",
       "37377      70000    0          2         1          1      2      2      2   \n",
       "37378      50000    0          2         1          1      2      0      0   \n",
       "37379      30000    0          1         1          1      0      0      0   \n",
       "37380      50000    0          2         2          1      0      0      0   \n",
       "37381      30000    0          3         1          1      1      2      3   \n",
       "\n",
       "       PAY_4  PAY_5  ...  BILL_AMT5  BILL_AMT6  PAY_AMT1  PAY_AMT2  PAY_AMT3  \\\n",
       "0         -1     -2  ...      -2900      -2900         0      8100         0   \n",
       "1          0      0  ...     105301     105965      6540      2100      2150   \n",
       "2         -1     -1  ...       2655       1070      2610      9439      2493   \n",
       "3          0      0  ...      18430        400      1165     19325       386   \n",
       "4          0      0  ...          0      51269      1675      1500      1007   \n",
       "...      ...    ...  ...        ...        ...       ...       ...       ...   \n",
       "37377      2      2  ...      45222      46146      2027      2000      1827   \n",
       "37378      2      1  ...      13592      13362      1582      1879       120   \n",
       "37379      0     -1  ...       -300       -300      1395      1343       524   \n",
       "37380      0      0  ...      18151      19463      2221      2015       904   \n",
       "37381      1      2  ...       2576       2465         0         0      1325   \n",
       "\n",
       "       PAY_AMT4  PAY_AMT5  PAY_AMT6  Creditworthiness  prob  \n",
       "0             0         0    110256                 1   1.0  \n",
       "1         50000      4700      2000                 1   1.0  \n",
       "2          2655         0      5682                 1   1.0  \n",
       "3           369       400      5125                 1   1.0  \n",
       "4             0     51269      1865                 1   1.0  \n",
       "...         ...       ...       ...               ...   ...  \n",
       "37377      1827      1800      1754                 0   0.0  \n",
       "37378      1175       120       555                 0   0.0  \n",
       "37379         0         0         0                 0   0.0  \n",
       "37380       727      2018       672                 0   0.0  \n",
       "37381      1381       759       138                 0   0.0  \n",
       "\n",
       "[37382 rows x 25 columns]"
      ]
     },
     "execution_count": 13,
     "metadata": {},
     "output_type": "execute_result"
    }
   ],
   "source": [
    "# organise the results in descending order \n",
    "result_sorted = result.sort_values(by=[sen_att, 'prob'], ascending=[True, False], ignore_index=True)\n",
    "result_sorted"
   ]
  },
  {
   "cell_type": "code",
   "execution_count": 14,
   "metadata": {},
   "outputs": [
    {
     "name": "stdout",
     "output_type": "stream",
     "text": [
      "445\n",
      "       LIMIT_BAL  SEX  EDUCATION  MARRIAGE  Age Group  PAY_0  PAY_2  PAY_3  \\\n",
      "0         230000    1          5         1          0     -1     -1     -1   \n",
      "1         610000    1          1         2          0      0      0      0   \n",
      "2         320000    1          2         2          0     -1     -1     -1   \n",
      "3          20000    1          3         2          0     -1     -1     -1   \n",
      "4         170000    0          2         1          0      0      0      0   \n",
      "...          ...  ...        ...       ...        ...    ...    ...    ...   \n",
      "37377      70000    0          2         1          1      2      2      2   \n",
      "37378      50000    0          2         1          1      2      0      0   \n",
      "37379      30000    0          1         1          1      0      0      0   \n",
      "37380      50000    0          2         2          1      0      0      0   \n",
      "37381      30000    0          3         1          1      1      2      3   \n",
      "\n",
      "       PAY_4  PAY_5  ...  BILL_AMT5  BILL_AMT6  PAY_AMT1  PAY_AMT2  PAY_AMT3  \\\n",
      "0         -1     -2  ...      -2900      -2900         0      8100         0   \n",
      "1          0      0  ...     105301     105965      6540      2100      2150   \n",
      "2         -1     -1  ...       2655       1070      2610      9439      2493   \n",
      "3          0      0  ...      18430        400      1165     19325       386   \n",
      "4          0      0  ...          0      51269      1675      1500      1007   \n",
      "...      ...    ...  ...        ...        ...       ...       ...       ...   \n",
      "37377      2      2  ...      45222      46146      2027      2000      1827   \n",
      "37378      2      1  ...      13592      13362      1582      1879       120   \n",
      "37379      0     -1  ...       -300       -300      1395      1343       524   \n",
      "37380      0      0  ...      18151      19463      2221      2015       904   \n",
      "37381      1      2  ...       2576       2465         0         0      1325   \n",
      "\n",
      "       PAY_AMT4  PAY_AMT5  PAY_AMT6  Creditworthiness  prob  \n",
      "0             0         0    110256                 1   1.0  \n",
      "1         50000      4700      2000                 1   1.0  \n",
      "2          2655         0      5682                 1   1.0  \n",
      "3           369       400      5125                 1   1.0  \n",
      "4             0     51269      1865                 1   1.0  \n",
      "...         ...       ...       ...               ...   ...  \n",
      "37377      1827      1800      1754                 0   0.0  \n",
      "37378      1175       120       555                 0   0.0  \n",
      "37379         0         0         0                 0   0.0  \n",
      "37380       727      2018       672                 0   0.0  \n",
      "37381      1381       759       138                 0   0.0  \n",
      "\n",
      "[37382 rows x 25 columns]\n"
     ]
    }
   ],
   "source": [
    "### applying massaging for the minorty class to transform to a positive output \n",
    "\n",
    "i = 0\n",
    "for row in range(len(result_sorted)):\n",
    "    \n",
    "    if i <= M and result_sorted.at[row, sen_att] == 0 and result_sorted.at[row, \"Creditworthiness\"] == 0:\n",
    "        result_sorted.at[row, 'Creditworthiness'] = 1 \n",
    "        i += 1\n",
    "    else:\n",
    "        pass \n",
    "print (i)\n",
    "\n",
    "print (result_sorted)"
   ]
  },
  {
   "cell_type": "code",
   "execution_count": 15,
   "metadata": {},
   "outputs": [
    {
     "name": "stdout",
     "output_type": "stream",
     "text": [
      "       LIMIT_BAL  SEX  EDUCATION  MARRIAGE  Age Group  PAY_0  PAY_2  PAY_3  \\\n",
      "0          20000    1          3         2          1      2      0      0   \n",
      "1          10000    1          3         1          1      2      2     -2   \n",
      "2          80000    0          2         1          1      0      0      0   \n",
      "3          30000    1          3         1          1      3      2      2   \n",
      "4          30000    1          3         1          1      2      2      2   \n",
      "...          ...  ...        ...       ...        ...    ...    ...    ...   \n",
      "37377      90000    1          2         2          0     -2     -2     -2   \n",
      "37378     280000    1          2         2          0     -2     -2     -1   \n",
      "37379     280000    1          2         2          0      0      0      2   \n",
      "37380     280000    1          2         1          0      2      2      2   \n",
      "37381     360000    1          1         2          0     -1     -1     -1   \n",
      "\n",
      "       PAY_4  PAY_5  ...  BILL_AMT5  BILL_AMT6  PAY_AMT1  PAY_AMT2  PAY_AMT3  \\\n",
      "0          0      2  ...      15183      16182      1600      1542      2300   \n",
      "1         -2     -2  ...       -747         71         0         0         0   \n",
      "2          0      0  ...      50209      49762      2779      3075      5000   \n",
      "3          7      7  ...       1950       1950         0         0         0   \n",
      "4          2      0  ...      26155      27972         0      3600         0   \n",
      "...      ...    ...  ...        ...        ...       ...       ...       ...   \n",
      "37377     -2     -2  ...      22687      15621      6140      5812     13955   \n",
      "37378      0      0  ...      66668      61466     13987     69805      1711   \n",
      "37379      2      0  ...      49374      50198    126000      3000         0   \n",
      "37380      0      0  ...      34557      35600      3315         0      3562   \n",
      "37381     -1      0  ...      49519      53478     15023     18500     57697   \n",
      "\n",
      "       PAY_AMT4  PAY_AMT5  PAY_AMT6  Creditworthiness  prob  \n",
      "0             0      1400       800                 0   0.0  \n",
      "1          1100       818      1418                 0   0.0  \n",
      "2          1750      1810      3000                 0   0.0  \n",
      "3             0         0         0                 0   0.0  \n",
      "4          1200      2400         0                 0   0.0  \n",
      "...         ...       ...       ...               ...   ...  \n",
      "37377     22687     15621      2540                 1   1.0  \n",
      "37378     26743     10057     54318                 1   1.0  \n",
      "37379      3000      2000      2000                 1   1.0  \n",
      "37380      1557      1600      3175                 1   1.0  \n",
      "37381     11000     15000      5000                 1   1.0  \n",
      "\n",
      "[37382 rows x 25 columns]\n"
     ]
    }
   ],
   "source": [
    "## resorting the dataset to change the unportected group to a negative classification\n",
    "\n",
    "\n",
    "result_sorted_2 = result_sorted.sort_values(by=[sen_att, 'prob'], ascending=[False, True], ignore_index=True)\n",
    "print(result_sorted_2)"
   ]
  },
  {
   "cell_type": "code",
   "execution_count": 16,
   "metadata": {},
   "outputs": [
    {
     "name": "stdout",
     "output_type": "stream",
     "text": [
      "445\n",
      "       LIMIT_BAL  SEX  EDUCATION  MARRIAGE  Age Group  PAY_0  PAY_2  PAY_3  \\\n",
      "0          20000    1          3         2          1      2      0      0   \n",
      "1          10000    1          3         1          1      2      2     -2   \n",
      "2          80000    0          2         1          1      0      0      0   \n",
      "3          30000    1          3         1          1      3      2      2   \n",
      "4          30000    1          3         1          1      2      2      2   \n",
      "...          ...  ...        ...       ...        ...    ...    ...    ...   \n",
      "37377      90000    1          2         2          0     -2     -2     -2   \n",
      "37378     280000    1          2         2          0     -2     -2     -1   \n",
      "37379     280000    1          2         2          0      0      0      2   \n",
      "37380     280000    1          2         1          0      2      2      2   \n",
      "37381     360000    1          1         2          0     -1     -1     -1   \n",
      "\n",
      "       PAY_4  PAY_5  ...  BILL_AMT5  BILL_AMT6  PAY_AMT1  PAY_AMT2  PAY_AMT3  \\\n",
      "0          0      2  ...      15183      16182      1600      1542      2300   \n",
      "1         -2     -2  ...       -747         71         0         0         0   \n",
      "2          0      0  ...      50209      49762      2779      3075      5000   \n",
      "3          7      7  ...       1950       1950         0         0         0   \n",
      "4          2      0  ...      26155      27972         0      3600         0   \n",
      "...      ...    ...  ...        ...        ...       ...       ...       ...   \n",
      "37377     -2     -2  ...      22687      15621      6140      5812     13955   \n",
      "37378      0      0  ...      66668      61466     13987     69805      1711   \n",
      "37379      2      0  ...      49374      50198    126000      3000         0   \n",
      "37380      0      0  ...      34557      35600      3315         0      3562   \n",
      "37381     -1      0  ...      49519      53478     15023     18500     57697   \n",
      "\n",
      "       PAY_AMT4  PAY_AMT5  PAY_AMT6  Creditworthiness  prob  \n",
      "0             0      1400       800                 0   0.0  \n",
      "1          1100       818      1418                 0   0.0  \n",
      "2          1750      1810      3000                 0   0.0  \n",
      "3             0         0         0                 0   0.0  \n",
      "4          1200      2400         0                 0   0.0  \n",
      "...         ...       ...       ...               ...   ...  \n",
      "37377     22687     15621      2540                 1   1.0  \n",
      "37378     26743     10057     54318                 1   1.0  \n",
      "37379      3000      2000      2000                 1   1.0  \n",
      "37380      1557      1600      3175                 1   1.0  \n",
      "37381     11000     15000      5000                 1   1.0  \n",
      "\n",
      "[37382 rows x 25 columns]\n"
     ]
    }
   ],
   "source": [
    "## sorting to create negative values for the unprotected group\n",
    "\n",
    "i = 0\n",
    "for row in range(len(result_sorted_2)):\n",
    "    \n",
    "    if i <= M and result_sorted_2.at[row, sen_att] == 1 and result_sorted_2.at[row, \"Creditworthiness\"] == 1:\n",
    "        result_sorted_2.at[row, 'Creditworthiness'] = 0 \n",
    "        i += 1\n",
    "    else:\n",
    "        pass \n",
    "print (i)\n",
    "\n",
    "print (result_sorted_2)"
   ]
  },
  {
   "cell_type": "code",
   "execution_count": null,
   "metadata": {},
   "outputs": [],
   "source": []
  },
  {
   "cell_type": "markdown",
   "metadata": {},
   "source": [
    "### visualisations of what happens to the data"
   ]
  },
  {
   "cell_type": "code",
   "execution_count": 17,
   "metadata": {},
   "outputs": [
    {
     "data": {
      "text/plain": [
       "<matplotlib.axes._subplots.AxesSubplot at 0x1fcf672c790>"
      ]
     },
     "execution_count": 17,
     "metadata": {},
     "output_type": "execute_result"
    },
    {
     "data": {
      "image/png": "[encoded data removed]",
      "text/plain": [
       "<Figure size 504x216 with 1 Axes>"
      ]
     },
     "metadata": {},
     "output_type": "display_data"
    }
   ],
   "source": [
    "f, ax = plt.subplots(figsize=(7, 3))\n",
    "sns.countplot(y='Creditworthiness', hue =sen_att, data=taiwan_data, color=\"c\")"
   ]
  },
  {
   "cell_type": "code",
   "execution_count": 18,
   "metadata": {},
   "outputs": [
    {
     "data": {
      "text/plain": [
       "<matplotlib.axes._subplots.AxesSubplot at 0x1fcf617d8e0>"
      ]
     },
     "execution_count": 18,
     "metadata": {},
     "output_type": "execute_result"
    },
    {
     "data": {
      "image/png": "[encoded data removed]",
      "text/plain": [
       "<Figure size 504x216 with 1 Axes>"
      ]
     },
     "metadata": {},
     "output_type": "display_data"
    }
   ],
   "source": [
    "f, ax = plt.subplots(figsize=(7, 3))\n",
    "sns.countplot(y='Creditworthiness', hue =sen_att, data=result, color=\"c\")"
   ]
  },
  {
   "cell_type": "code",
   "execution_count": 19,
   "metadata": {},
   "outputs": [
    {
     "data": {
      "text/plain": [
       "<matplotlib.axes._subplots.AxesSubplot at 0x1fcf689d5e0>"
      ]
     },
     "execution_count": 19,
     "metadata": {},
     "output_type": "execute_result"
    },
    {
     "data": {
      "image/png": "[encoded data removed]",
      "text/plain": [
       "<Figure size 504x216 with 1 Axes>"
      ]
     },
     "metadata": {},
     "output_type": "display_data"
    }
   ],
   "source": [
    "f, ax = plt.subplots(figsize=(7, 3))\n",
    "sns.countplot(y='Creditworthiness', hue =sen_att, data=result_sorted, color=\"c\")"
   ]
  },
  {
   "cell_type": "code",
   "execution_count": 20,
   "metadata": {},
   "outputs": [
    {
     "data": {
      "text/plain": [
       "<matplotlib.axes._subplots.AxesSubplot at 0x1fcf6e6a730>"
      ]
     },
     "execution_count": 20,
     "metadata": {},
     "output_type": "execute_result"
    },
    {
     "data": {
      "image/png": "[encoded data removed]",
      "text/plain": [
       "<Figure size 504x216 with 1 Axes>"
      ]
     },
     "metadata": {},
     "output_type": "display_data"
    }
   ],
   "source": [
    "f, ax = plt.subplots(figsize=(7, 3))\n",
    "sns.countplot(y='Creditworthiness', hue =sen_att, data=result_sorted_2, color=\"c\")"
   ]
  },
  {
   "cell_type": "code",
   "execution_count": 21,
   "metadata": {},
   "outputs": [
    {
     "name": "stdout",
     "output_type": "stream",
     "text": [
      "       LIMIT_BAL  SEX  EDUCATION  MARRIAGE  Age Group  PAY_0  PAY_2  PAY_3  \\\n",
      "28010     420000    1          2         2          0      0      0      0   \n",
      "5168      230000    1          5         1          0     -1     -1     -1   \n",
      "4569       30000    1          2         1          0      2      2      2   \n",
      "20281      30000    1          2         1          1      2      2      2   \n",
      "19871     390000    1          1         1          0     -1      0     -1   \n",
      "...          ...  ...        ...       ...        ...    ...    ...    ...   \n",
      "11602      10000    0          1         1          1      0      0      0   \n",
      "7625       20000    1          3         3          0      0      0      0   \n",
      "17291      50000    1          2         2          0      0      0      0   \n",
      "5831      140000    0          1         1          0      2      2      2   \n",
      "9324       80000    1          1         1          0     -1     -1     -1   \n",
      "\n",
      "       PAY_4  PAY_5  ...  BILL_AMT3  BILL_AMT4  BILL_AMT5  BILL_AMT6  \\\n",
      "28010      0      0  ...     278407     284777     301438     308571   \n",
      "5168      -1     -2  ...       8100      -2900      -2900      -2900   \n",
      "4569       2      2  ...      17272      18131      17711      19007   \n",
      "20281      2      3  ...      23057      24506      24711      24178   \n",
      "19871     -1     -1  ...      15216      16659      35241      14216   \n",
      "...      ...    ...  ...        ...        ...        ...        ...   \n",
      "11602      0      0  ...       9718       9916       9250       7461   \n",
      "7625       0      0  ...      18932      18749      18620      18668   \n",
      "17291      0      0  ...      27199      18810      18487      18874   \n",
      "5831       2      0  ...     104207     100326     102740     103444   \n",
      "9324      -1     -1  ...      35369      18351      14249      10637   \n",
      "\n",
      "       PAY_AMT1  PAY_AMT2  PAY_AMT3  PAY_AMT4  PAY_AMT5  PAY_AMT6  \n",
      "28010     10000     10200     11000     21500     12000     15000  \n",
      "5168          0      8100         0         0         0    110256  \n",
      "4569       3141         0      1434         0      1581      1705  \n",
      "20281      1300      1082      2131       900         0      2200  \n",
      "19871     42000     15224     16659     35241     14216     72944  \n",
      "...         ...       ...       ...       ...       ...       ...  \n",
      "11602      1194      1076       274       370       472       375  \n",
      "7625       1308      1593       800       700       741       531  \n",
      "17291      1559      1500      1400      1000       684       716  \n",
      "5831       5000      3600         0      4000      4000      3603  \n",
      "9324      17253     35369     18351     14249     10637     12331  \n",
      "\n",
      "[24000 rows x 23 columns]\n"
     ]
    }
   ],
   "source": [
    "print(X_train)"
   ]
  },
  {
   "cell_type": "code",
   "execution_count": 22,
   "metadata": {},
   "outputs": [
    {
     "name": "stdout",
     "output_type": "stream",
     "text": [
      "       LIMIT_BAL  SEX  EDUCATION  MARRIAGE  Age Group  PAY_0  PAY_2  PAY_3  \\\n",
      "28010     420000    1          2         2          0      0      0      0   \n",
      "5168      230000    1          5         1          0     -1     -1     -1   \n",
      "4569       30000    1          2         1          0      2      2      2   \n",
      "20281      30000    1          2         1          1      2      2      2   \n",
      "19871     390000    1          1         1          0     -1      0     -1   \n",
      "...          ...  ...        ...       ...        ...    ...    ...    ...   \n",
      "11602      10000    0          1         1          1      0      0      0   \n",
      "7625       20000    1          3         3          0      0      0      0   \n",
      "17291      50000    1          2         2          0      0      0      0   \n",
      "5831      140000    0          1         1          0      2      2      2   \n",
      "9324       80000    1          1         1          0     -1     -1     -1   \n",
      "\n",
      "       PAY_4  PAY_5  ...  BILL_AMT3  BILL_AMT4  BILL_AMT5  BILL_AMT6  \\\n",
      "28010      0      0  ...     278407     284777     301438     308571   \n",
      "5168      -1     -2  ...       8100      -2900      -2900      -2900   \n",
      "4569       2      2  ...      17272      18131      17711      19007   \n",
      "20281      2      3  ...      23057      24506      24711      24178   \n",
      "19871     -1     -1  ...      15216      16659      35241      14216   \n",
      "...      ...    ...  ...        ...        ...        ...        ...   \n",
      "11602      0      0  ...       9718       9916       9250       7461   \n",
      "7625       0      0  ...      18932      18749      18620      18668   \n",
      "17291      0      0  ...      27199      18810      18487      18874   \n",
      "5831       2      0  ...     104207     100326     102740     103444   \n",
      "9324      -1     -1  ...      35369      18351      14249      10637   \n",
      "\n",
      "       PAY_AMT1  PAY_AMT2  PAY_AMT3  PAY_AMT4  PAY_AMT5  PAY_AMT6  \n",
      "28010     10000     10200     11000     21500     12000     15000  \n",
      "5168          0      8100         0         0         0    110256  \n",
      "4569       3141         0      1434         0      1581      1705  \n",
      "20281      1300      1082      2131       900         0      2200  \n",
      "19871     42000     15224     16659     35241     14216     72944  \n",
      "...         ...       ...       ...       ...       ...       ...  \n",
      "11602      1194      1076       274       370       472       375  \n",
      "7625       1308      1593       800       700       741       531  \n",
      "17291      1559      1500      1400      1000       684       716  \n",
      "5831       5000      3600         0      4000      4000      3603  \n",
      "9324      17253     35369     18351     14249     10637     12331  \n",
      "\n",
      "[24000 rows x 23 columns]\n"
     ]
    }
   ],
   "source": [
    "X_test.shape\n",
    "X_train.shape\n",
    "print(X_train)"
   ]
  },
  {
   "cell_type": "code",
   "execution_count": 23,
   "metadata": {},
   "outputs": [
    {
     "data": {
      "text/plain": [
       "(6000, 23)"
      ]
     },
     "execution_count": 23,
     "metadata": {},
     "output_type": "execute_result"
    }
   ],
   "source": [
    "from sklearn.linear_model import LogisticRegression\n",
    "from sklearn.preprocessing import StandardScaler\n",
    "from sklearn.metrics import roc_curve\n",
    "from sklearn.preprocessing import minmax_scale\n",
    "from sklearn.preprocessing import MaxAbsScaler\n",
    "\n",
    "\n",
    "X_train = result_sorted_2.loc[:, result_sorted_2.columns != 'Creditworthiness']\n",
    "y_train = result_sorted_2.loc[:, result_sorted_2.columns =='Creditworthiness']\n",
    "\n",
    "del X_train[\"prob\"]\n",
    "\n",
    "y_train =y_train.to_numpy()\n",
    "\n",
    "y_train = y_train.ravel()\n",
    "\n",
    "logit = LogisticRegression(penalty='l2', solver = 'liblinear', max_iter = 5000)\n",
    "#logit = LogisticRegression()\n",
    "logit.fit(X_train, y_train)\n",
    "\n",
    "\n",
    "X_test.shape"
   ]
  },
  {
   "cell_type": "code",
   "execution_count": 24,
   "metadata": {},
   "outputs": [
    {
     "name": "stdout",
     "output_type": "stream",
     "text": [
      "[[ 446  881]\n",
      " [ 981 3692]]\n"
     ]
    }
   ],
   "source": [
    "\n",
    "y_pred =  logit.predict(X_test)\n",
    "\n",
    "\n",
    "from sklearn.metrics import classification_report\n",
    "\n",
    "\n",
    "matrix = sklearn.metrics.confusion_matrix(y_test, y_pred)\n",
    "sklearn.metrics.accuracy_score(y_test, y_pred)\n",
    "print(matrix)"
   ]
  },
  {
   "cell_type": "code",
   "execution_count": null,
   "metadata": {},
   "outputs": [],
   "source": []
  },
  {
   "cell_type": "code",
   "execution_count": 25,
   "metadata": {},
   "outputs": [
    {
     "name": "stdout",
     "output_type": "stream",
     "text": [
      "              precision    recall  f1-score   support\n",
      "\n",
      "           0       0.31      0.34      0.32      1327\n",
      "           1       0.81      0.79      0.80      4673\n",
      "\n",
      "    accuracy                           0.69      6000\n",
      "   macro avg       0.56      0.56      0.56      6000\n",
      "weighted avg       0.70      0.69      0.69      6000\n",
      "\n"
     ]
    }
   ],
   "source": [
    "print(classification_report(y_test, y_pred))"
   ]
  },
  {
   "cell_type": "code",
   "execution_count": 26,
   "metadata": {},
   "outputs": [],
   "source": [
    "privileged_groups = [{sen_att: 0}]\n",
    "unprivileged_groups = [{sen_att: 1}]\n",
    "cost_constraint = \"fnr\"\n",
    "randseed = 12345679 "
   ]
  },
  {
   "cell_type": "code",
   "execution_count": 27,
   "metadata": {},
   "outputs": [],
   "source": [
    "fair_test_df = pd.concat([X_test, y_test], axis=1, join=\"inner\")"
   ]
  },
  {
   "cell_type": "code",
   "execution_count": 28,
   "metadata": {},
   "outputs": [
    {
     "name": "stdout",
     "output_type": "stream",
     "text": [
      "Balanced accuracy = 0.5631\n",
      "Statistical parity difference = -0.0466\n",
      "Disparate impact = 0.9392\n",
      "Average odds difference = -0.0254\n",
      "Equal opportunity difference = -0.0593\n",
      "Theil index = 0.2238\n"
     ]
    }
   ],
   "source": [
    "# Metrics function\n",
    "from collections import OrderedDict\n",
    "from aif360.datasets import StandardDataset\n",
    "from aif360.metrics import BinaryLabelDatasetMetric, ClassificationMetric\n",
    "\n",
    "dataset = StandardDataset(fair_test_df, \n",
    "                          label_name='Creditworthiness', \n",
    "                          favorable_classes=[1], \n",
    "                          protected_attribute_names=[sen_att], \n",
    "                          privileged_classes=[[0]])\n",
    "\n",
    "def fair_metrics(dataset, y_pred, disp = True):\n",
    "    dataset_pred =dataset.copy()\n",
    "    dataset_pred.labels = y_pred\n",
    "        \n",
    "    attr = dataset_pred.protected_attribute_names[0]\n",
    "    \n",
    "    idx = dataset_pred.protected_attribute_names.index(attr)\n",
    "    privileged_groups =  [{attr:dataset_pred.privileged_protected_attributes[idx][0]}] \n",
    "    unprivileged_groups = [{attr:dataset_pred.unprivileged_protected_attributes[idx][0]}] \n",
    "\n",
    "    classified_metric_pred = ClassificationMetric(dataset, dataset_pred, unprivileged_groups=unprivileged_groups, privileged_groups=privileged_groups)\n",
    "\n",
    "    metric_pred = BinaryLabelDatasetMetric(dataset_pred, unprivileged_groups=unprivileged_groups, privileged_groups=privileged_groups)\n",
    "\n",
    "    metrics = OrderedDict()\n",
    "    metrics[\"Balanced accuracy\"] = 0.5*(classified_metric_pred.true_positive_rate()+\n",
    "                                             classified_metric_pred.true_negative_rate())\n",
    "    metrics[\"Statistical parity difference\"] = classified_metric_pred.statistical_parity_difference()\n",
    "    metrics[\"Disparate impact\"] = classified_metric_pred.disparate_impact()\n",
    "    metrics[\"Average odds difference\"] = classified_metric_pred.average_odds_difference()\n",
    "    metrics[\"Equal opportunity difference\"] = classified_metric_pred.equal_opportunity_difference()\n",
    "    metrics[\"Theil index\"] = classified_metric_pred.theil_index()\n",
    "        \n",
    "    if disp:\n",
    "        for k in metrics:\n",
    "            print(\"%s = %.4f\" % (k, metrics[k]))\n",
    "\n",
    "\n",
    "fair_metrics(dataset, y_pred)"
   ]
  },
  {
   "cell_type": "code",
   "execution_count": null,
   "metadata": {},
   "outputs": [],
   "source": []
  }
 ],
 "metadata": {
  "kernelspec": {
   "display_name": "Python 3",
   "language": "python",
   "name": "python3"
  },
  "language_info": {
   "codemirror_mode": {
    "name": "ipython",
    "version": 3
   },
   "file_extension": ".py",
   "mimetype": "text/x-python",
   "name": "python",
   "nbconvert_exporter": "python",
   "pygments_lexer": "ipython3",
   "version": "3.8.3"
  }
 },
 "nbformat": 4,
 "nbformat_minor": 4
}
