{
 "cells": [
  {
   "cell_type": "markdown",
   "metadata": {},
   "source": [
    "### PREPROCESSING OF GERMAN CREDIT DATASET"
   ]
  },
  {
   "cell_type": "code",
   "execution_count": 1,
   "metadata": {},
   "outputs": [],
   "source": [
    "import numpy as np\n",
    "import pandas as pd\n",
    "import sklearn \n",
    "import imblearn\n",
    "import matplotlib.pyplot as plt \n",
    "plt.rc(\"font\", size=14)\n",
    "import seaborn as sns\n",
    "sns.set(style=\"white\")\n",
    "sns.set(style=\"whitegrid\", color_codes=True)"
   ]
  },
  {
   "cell_type": "code",
   "execution_count": 2,
   "metadata": {},
   "outputs": [
    {
     "name": "stdout",
     "output_type": "stream",
     "text": [
      "      0   1    2    3     4    5    6   7    8     9   ...    11  12    13  \\\n",
      "0    A11   6  A34  A43  1169  A65  A75   4  A93  A101  ...  A121  67  A143   \n",
      "1    A12  48  A32  A43  5951  A61  A73   2  A92  A101  ...  A121  22  A143   \n",
      "2    A14  12  A34  A46  2096  A61  A74   2  A93  A101  ...  A121  49  A143   \n",
      "3    A11  42  A32  A42  7882  A61  A74   2  A93  A103  ...  A122  45  A143   \n",
      "4    A11  24  A33  A40  4870  A61  A73   3  A93  A101  ...  A124  53  A143   \n",
      "..   ...  ..  ...  ...   ...  ...  ...  ..  ...   ...  ...   ...  ..   ...   \n",
      "995  A14  12  A32  A42  1736  A61  A74   3  A92  A101  ...  A121  31  A143   \n",
      "996  A11  30  A32  A41  3857  A61  A73   4  A91  A101  ...  A122  40  A143   \n",
      "997  A14  12  A32  A43   804  A61  A75   4  A93  A101  ...  A123  38  A143   \n",
      "998  A11  45  A32  A43  1845  A61  A73   4  A93  A101  ...  A124  23  A143   \n",
      "999  A12  45  A34  A41  4576  A62  A71   3  A93  A101  ...  A123  27  A143   \n",
      "\n",
      "       14 15    16 17    18    19 20  \n",
      "0    A152  2  A173  1  A192  A201  1  \n",
      "1    A152  1  A173  1  A191  A201  2  \n",
      "2    A152  1  A172  2  A191  A201  1  \n",
      "3    A153  1  A173  2  A191  A201  1  \n",
      "4    A153  2  A173  2  A191  A201  2  \n",
      "..    ... ..   ... ..   ...   ... ..  \n",
      "995  A152  1  A172  1  A191  A201  1  \n",
      "996  A152  1  A174  1  A192  A201  1  \n",
      "997  A152  1  A173  1  A191  A201  1  \n",
      "998  A153  1  A173  1  A192  A201  2  \n",
      "999  A152  1  A173  1  A191  A201  1  \n",
      "\n",
      "[1000 rows x 21 columns]\n"
     ]
    }
   ],
   "source": [
    "loaded_data = pd.read_csv('german.data', sep = \" \", header=None)\n",
    "german_data = loaded_data\n",
    "print(german_data)"
   ]
  },
  {
   "cell_type": "code",
   "execution_count": 3,
   "metadata": {},
   "outputs": [],
   "source": [
    "german_data.to_csv('german.data', header=[\"stat_check_acc\", \"duration_month\", \"credit_history\", \"purpose\", \"credit_amount\", \"savings_bonds\",\n",
    "                                          \"employment_since\", \"installment_in_percent\", \"sex\", \"debtors_guarant\", \"residence_since\",\n",
    "                                          \"property\",\"age\", \"other_installment_plans\", \"housing\", \"nr_credits\", \"job\", \"nr_dependants\", \"phone\", \"foreign_worker\", \"approval\"], index=False)"
   ]
  },
  {
   "cell_type": "code",
   "execution_count": 4,
   "metadata": {},
   "outputs": [
    {
     "name": "stdout",
     "output_type": "stream",
     "text": [
      "    stat_check_acc  duration_month credit_history purpose  credit_amount  \\\n",
      "0              A11               6            A34     A43           1169   \n",
      "1              A12              48            A32     A43           5951   \n",
      "2              A14              12            A34     A46           2096   \n",
      "3              A11              42            A32     A42           7882   \n",
      "4              A11              24            A33     A40           4870   \n",
      "..             ...             ...            ...     ...            ...   \n",
      "995            A14              12            A32     A42           1736   \n",
      "996            A11              30            A32     A41           3857   \n",
      "997            A14              12            A32     A43            804   \n",
      "998            A11              45            A32     A43           1845   \n",
      "999            A12              45            A34     A41           4576   \n",
      "\n",
      "    savings_bonds employment_since  installment_in_percent  sex  \\\n",
      "0             A65              A75                       4  A93   \n",
      "1             A61              A73                       2  A92   \n",
      "2             A61              A74                       2  A93   \n",
      "3             A61              A74                       2  A93   \n",
      "4             A61              A73                       3  A93   \n",
      "..            ...              ...                     ...  ...   \n",
      "995           A61              A74                       3  A92   \n",
      "996           A61              A73                       4  A91   \n",
      "997           A61              A75                       4  A93   \n",
      "998           A61              A73                       4  A93   \n",
      "999           A62              A71                       3  A93   \n",
      "\n",
      "    debtors_guarant  ...  property age  other_installment_plans housing  \\\n",
      "0              A101  ...      A121  67                     A143    A152   \n",
      "1              A101  ...      A121  22                     A143    A152   \n",
      "2              A101  ...      A121  49                     A143    A152   \n",
      "3              A103  ...      A122  45                     A143    A153   \n",
      "4              A101  ...      A124  53                     A143    A153   \n",
      "..              ...  ...       ...  ..                      ...     ...   \n",
      "995            A101  ...      A121  31                     A143    A152   \n",
      "996            A101  ...      A122  40                     A143    A152   \n",
      "997            A101  ...      A123  38                     A143    A152   \n",
      "998            A101  ...      A124  23                     A143    A153   \n",
      "999            A101  ...      A123  27                     A143    A152   \n",
      "\n",
      "    nr_credits   job nr_dependants  phone foreign_worker approval  \n",
      "0            2  A173             1   A192           A201        1  \n",
      "1            1  A173             1   A191           A201        2  \n",
      "2            1  A172             2   A191           A201        1  \n",
      "3            1  A173             2   A191           A201        1  \n",
      "4            2  A173             2   A191           A201        2  \n",
      "..         ...   ...           ...    ...            ...      ...  \n",
      "995          1  A172             1   A191           A201        1  \n",
      "996          1  A174             1   A192           A201        1  \n",
      "997          1  A173             1   A191           A201        1  \n",
      "998          1  A173             1   A192           A201        2  \n",
      "999          1  A173             1   A191           A201        1  \n",
      "\n",
      "[1000 rows x 21 columns]\n"
     ]
    }
   ],
   "source": [
    "german_data = pd.read_csv('german.data', sep = \",\")\n",
    "print(german_data)"
   ]
  },
  {
   "cell_type": "code",
   "execution_count": 5,
   "metadata": {},
   "outputs": [],
   "source": [
    "german_data[\"marital_status\"] = german_data[\"sex\"] "
   ]
  },
  {
   "cell_type": "code",
   "execution_count": 6,
   "metadata": {},
   "outputs": [],
   "source": [
    "#1= MALE 2=FEMALE \n",
    "german_data['sex'] = german_data['sex'].replace(['A91','A93','A94', 'A92','A95'],['male','male','male','female','female'])"
   ]
  },
  {
   "cell_type": "code",
   "execution_count": 7,
   "metadata": {},
   "outputs": [],
   "source": [
    "german_data['approval'] = german_data['approval'].replace([1,2],[1,0])"
   ]
  },
  {
   "cell_type": "code",
   "execution_count": 8,
   "metadata": {},
   "outputs": [],
   "source": [
    "# 1: ... < 0 DM\n",
    "# 2: 0 <=... < 200 DM\n",
    "# 3: ... >= 200 DM\n",
    "# 4: no checking account\n",
    "german_data['stat_check_acc'] = german_data['stat_check_acc'].replace(['A11','A12','A13', 'A14'],[1,2,3,4])\n",
    "german_data[['stat_check_acc']] = german_data[['stat_check_acc']].apply(pd.to_numeric)\n",
    "\n",
    "# A30 : no credits taken/  all credits paid back duly\n",
    "# A31 : all credits at this bank paid back duly\n",
    "# A32 : existing credits paid back duly till now\n",
    "# A33 : delay in paying off in the past\n",
    "# A34 : critical account/ other credits existing (not at this bank)\n",
    "\n",
    "german_data['credit_history'] = german_data['credit_history'].replace(['A30','A31','A32','A33', \"A34\"],[1,2,3,4,5])\n",
    "german_data[['credit_history']] = german_data[['credit_history']].apply(pd.to_numeric)\n",
    "\n",
    "# 1 : car (new)\n",
    "# 2 : car (used)\n",
    "# 3 : furniture/equipment\n",
    "# 4 : radio/television\n",
    "# 5 : domestic appliances\n",
    "# 6 : repairs\n",
    "# 7 : education\n",
    "# 8 : (vacation - does not exist?)\n",
    "# 9 : retraining\n",
    "# 10: business\n",
    "# 11 : others\n",
    "\n",
    "### FOR FURTHER DETAILS, CHECK DATA DECRIPTION DOC###\n",
    "\n",
    "german_data['purpose'] = german_data['purpose'].replace(['A40','A41','A42','A43', \"A44\", 'A45', 'A46', 'A47', 'A48', 'A49', 'A410'],[1,2,3,4,5,6,7,8,9,10,11])\n",
    "german_data[['purpose']] = german_data[['purpose']].apply(pd.to_numeric)\n",
    "\n",
    "german_data['savings_bonds'] = german_data['savings_bonds'].replace(['A61','A62','A63', 'A64', 'A65'],[1,2,3,4,5])\n",
    "german_data['savings_bonds'] = german_data['savings_bonds'].apply(pd.to_numeric)\n",
    "\n",
    "german_data['employment_since'] = german_data['employment_since'].replace(['A71','A72','A73', 'A74', 'A75'],[1,2,3,4,5])\n",
    "german_data['employment_since'] = german_data['employment_since'].apply(pd.to_numeric)\n",
    "\n",
    "german_data['debtors_guarant'] = german_data['debtors_guarant'].replace(['A101','A102','A103'],[1,2,3])\n",
    "german_data['debtors_guarant'] = german_data['debtors_guarant'].apply(pd.to_numeric)\n",
    "\n",
    "german_data['property'] = german_data['property'].replace(['A121','A122','A123', 'A124'],[1,2,3,4])\n",
    "german_data['property'] = german_data['property'].apply(pd.to_numeric)\n",
    "\n",
    "german_data['other_installment_plans'] = german_data['other_installment_plans'].replace(['A141','A142','A143'],[1,2,3])\n",
    "german_data['other_installment_plans'] = german_data['other_installment_plans'].apply(pd.to_numeric)\n",
    "\n",
    "german_data['housing'] = german_data['housing'].replace(['A151','A152','A153'],[1,2,3])\n",
    "german_data['housing'] = german_data['housing'].apply(pd.to_numeric)\n",
    "\n",
    "german_data['job'] = german_data['job'].replace(['A171','A172','A173', 'A174'],[1,2,3,4])\n",
    "german_data['job'] = german_data['job'].apply(pd.to_numeric)\n",
    "\n",
    "german_data['phone'] = german_data['phone'].replace(['A191','A192'],[1,2])\n",
    "german_data['phone'] = german_data['phone'].apply(pd.to_numeric)\n",
    "\n",
    "german_data['foreign_worker'] = german_data['foreign_worker'].replace(['A201','A202'],[1,2])\n",
    "german_data['foreign_worker'] = german_data['foreign_worker'].apply(pd.to_numeric)\n",
    "\n",
    "\n",
    "#1 = DIVORCED/SEPARATED/MARRIED\n",
    "#2 = SINGLE\n",
    "german_data['marital_status'] = german_data['marital_status'].replace(['A91','A92','A93', 'A94', 'A95'],[1,1,2,1,2])\n",
    "german_data['marital_status'] = german_data['marital_status'].apply(pd.to_numeric)\n",
    "\n",
    "german_data['sex'] = german_data['sex'].replace(['male','female'],[0,1])\n",
    "german_data['sex'] = german_data['sex'].apply(pd.to_numeric)"
   ]
  },
  {
   "cell_type": "code",
   "execution_count": 9,
   "metadata": {},
   "outputs": [],
   "source": [
    "category =pd.cut(german_data.age,bins=[0,49,100],labels=[0, 1])\n",
    "german_data.insert(5,'Age Group',category)\n",
    "del german_data['age']"
   ]
  },
  {
   "cell_type": "code",
   "execution_count": 10,
   "metadata": {},
   "outputs": [],
   "source": [
    "del german_data[\"foreign_worker\"]\n",
    "del german_data[\"marital_status\"] \n"
   ]
  },
  {
   "cell_type": "code",
   "execution_count": 11,
   "metadata": {},
   "outputs": [
    {
     "name": "stdout",
     "output_type": "stream",
     "text": [
      "     stat_check_acc  duration_month  credit_history  purpose  credit_amount  \\\n",
      "0                 1               6               5        4           1169   \n",
      "1                 2              48               3        4           5951   \n",
      "2                 4              12               5        7           2096   \n",
      "3                 1              42               3        3           7882   \n",
      "4                 1              24               4        1           4870   \n",
      "..              ...             ...             ...      ...            ...   \n",
      "995               4              12               3        3           1736   \n",
      "996               1              30               3        2           3857   \n",
      "997               4              12               3        4            804   \n",
      "998               1              45               3        4           1845   \n",
      "999               2              45               5        2           4576   \n",
      "\n",
      "    Age Group  savings_bonds  employment_since  installment_in_percent  sex  \\\n",
      "0           1              5                 5                       4    0   \n",
      "1           0              1                 3                       2    1   \n",
      "2           0              1                 4                       2    0   \n",
      "3           0              1                 4                       2    0   \n",
      "4           1              1                 3                       3    0   \n",
      "..        ...            ...               ...                     ...  ...   \n",
      "995         0              1                 4                       3    1   \n",
      "996         0              1                 3                       4    0   \n",
      "997         0              1                 5                       4    0   \n",
      "998         0              1                 3                       4    0   \n",
      "999         0              2                 1                       3    0   \n",
      "\n",
      "     debtors_guarant  residence_since  property  other_installment_plans  \\\n",
      "0                  1                4         1                        3   \n",
      "1                  1                2         1                        3   \n",
      "2                  1                3         1                        3   \n",
      "3                  3                4         2                        3   \n",
      "4                  1                4         4                        3   \n",
      "..               ...              ...       ...                      ...   \n",
      "995                1                4         1                        3   \n",
      "996                1                4         2                        3   \n",
      "997                1                4         3                        3   \n",
      "998                1                4         4                        3   \n",
      "999                1                4         3                        3   \n",
      "\n",
      "     housing  nr_credits  job  nr_dependants  phone  approval  \n",
      "0          2           2    3              1      2         1  \n",
      "1          2           1    3              1      1         0  \n",
      "2          2           1    2              2      1         1  \n",
      "3          3           1    3              2      1         1  \n",
      "4          3           2    3              2      1         0  \n",
      "..       ...         ...  ...            ...    ...       ...  \n",
      "995        2           1    2              1      1         1  \n",
      "996        2           1    4              1      2         1  \n",
      "997        2           1    3              1      1         1  \n",
      "998        3           1    3              1      2         0  \n",
      "999        2           1    3              1      1         1  \n",
      "\n",
      "[1000 rows x 20 columns]\n"
     ]
    }
   ],
   "source": [
    "print(german_data)"
   ]
  },
  {
   "cell_type": "code",
   "execution_count": 12,
   "metadata": {},
   "outputs": [
    {
     "data": {
      "text/plain": [
       "False"
      ]
     },
     "execution_count": 12,
     "metadata": {},
     "output_type": "execute_result"
    }
   ],
   "source": [
    "german_data.isnull().values.any()"
   ]
  },
  {
   "cell_type": "code",
   "execution_count": 13,
   "metadata": {},
   "outputs": [
    {
     "data": {
      "text/plain": [
       "<matplotlib.axes._subplots.AxesSubplot at 0x2a71e5da370>"
      ]
     },
     "execution_count": 13,
     "metadata": {},
     "output_type": "execute_result"
    },
    {
     "data": {
      "image/png": "[encoded data removed]",
      "text/plain": [
       "<Figure size 432x288 with 1 Axes>"
      ]
     },
     "metadata": {},
     "output_type": "display_data"
    }
   ],
   "source": [
    "import seaborn as sns\n",
    "sns.boxplot(x=german_data['credit_amount'])"
   ]
  },
  {
   "cell_type": "code",
   "execution_count": null,
   "metadata": {},
   "outputs": [],
   "source": []
  },
  {
   "cell_type": "code",
   "execution_count": 15,
   "metadata": {},
   "outputs": [
    {
     "data": {
      "image/png": "[encoded data removed]",
      "text/plain": [
       "<Figure size 432x288 with 1 Axes>"
      ]
     },
     "metadata": {},
     "output_type": "display_data"
    },
    {
     "data": {
      "text/plain": [
       "<Figure size 432x288 with 0 Axes>"
      ]
     },
     "metadata": {},
     "output_type": "display_data"
    }
   ],
   "source": [
    "sns.countplot(x ='approval', data = german_data, palette = 'hls')\n",
    "plt.show()\n",
    "plt.savefig('approval')"
   ]
  },
  {
   "cell_type": "code",
   "execution_count": 16,
   "metadata": {},
   "outputs": [
    {
     "data": {
      "image/png": "[encoded data removed]",
      "text/plain": [
       "<Figure size 432x288 with 1 Axes>"
      ]
     },
     "metadata": {},
     "output_type": "display_data"
    },
    {
     "data": {
      "text/plain": [
       "<Figure size 432x288 with 0 Axes>"
      ]
     },
     "metadata": {},
     "output_type": "display_data"
    }
   ],
   "source": [
    "sns.countplot(x ='Age Group', data = german_data, palette = 'hls')\n",
    "plt.show()\n",
    "plt.savefig('approval')"
   ]
  },
  {
   "cell_type": "code",
   "execution_count": 17,
   "metadata": {},
   "outputs": [
    {
     "data": {
      "image/png": "[encoded data removed]",
      "text/plain": [
       "<Figure size 432x288 with 1 Axes>"
      ]
     },
     "metadata": {},
     "output_type": "display_data"
    },
    {
     "data": {
      "text/plain": [
       "<Figure size 432x288 with 0 Axes>"
      ]
     },
     "metadata": {},
     "output_type": "display_data"
    }
   ],
   "source": [
    "sns.countplot(x ='sex', data = german_data, palette = 'hls')\n",
    "plt.show()\n",
    "plt.savefig('approval')"
   ]
  },
  {
   "cell_type": "code",
   "execution_count": null,
   "metadata": {},
   "outputs": [],
   "source": [
    "german_data.to_csv(r'C:\\Users\\Majda\\Downloads\\Documents\\MSc DSS\\Thesis\\german_data.csv',index = False, header=True)"
   ]
  }
 ],
 "metadata": {
  "kernelspec": {
   "display_name": "Python 3",
   "language": "python",
   "name": "python3"
  },
  "language_info": {
   "codemirror_mode": {
    "name": "ipython",
    "version": 3
   },
   "file_extension": ".py",
   "mimetype": "text/x-python",
   "name": "python",
   "nbconvert_exporter": "python",
   "pygments_lexer": "ipython3",
   "version": "3.8.3"
  }
 },
 "nbformat": 4,
 "nbformat_minor": 4
}
