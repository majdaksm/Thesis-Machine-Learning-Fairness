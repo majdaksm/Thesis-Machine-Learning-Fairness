{
 "cells": [
  {
   "cell_type": "code",
   "execution_count": 1,
   "metadata": {},
   "outputs": [],
   "source": [
    "import numpy as np\n",
    "import pandas as pd\n",
    "import sklearn \n",
    "import imblearn \n",
    "from sklearn.metrics import classification_report, confusion_matrix\n",
    "import math \n",
    "import matplotlib.pyplot as plt \n",
    "import seaborn as sns\n",
    "sns.set(style=\"white\")\n",
    "sns.set(style=\"whitegrid\", color_codes=True)"
   ]
  },
  {
   "cell_type": "code",
   "execution_count": 2,
   "metadata": {},
   "outputs": [
    {
     "name": "stdout",
     "output_type": "stream",
     "text": [
      "     stat_check_acc  duration_month  credit_history  purpose  credit_amount  \\\n",
      "0                 1               6               5        4           1169   \n",
      "1                 2              48               3        4           5951   \n",
      "2                 4              12               5        7           2096   \n",
      "3                 1              42               3        3           7882   \n",
      "4                 1              24               4        1           4870   \n",
      "..              ...             ...             ...      ...            ...   \n",
      "995               4              12               3        3           1736   \n",
      "996               1              30               3        2           3857   \n",
      "997               4              12               3        4            804   \n",
      "998               1              45               3        4           1845   \n",
      "999               2              45               5        2           4576   \n",
      "\n",
      "     Age Group  savings_bonds  employment_since  installment_in_percent  sex  \\\n",
      "0            1              5                 5                       4    0   \n",
      "1            0              1                 3                       2    1   \n",
      "2            0              1                 4                       2    0   \n",
      "3            0              1                 4                       2    0   \n",
      "4            1              1                 3                       3    0   \n",
      "..         ...            ...               ...                     ...  ...   \n",
      "995          0              1                 4                       3    1   \n",
      "996          0              1                 3                       4    0   \n",
      "997          0              1                 5                       4    0   \n",
      "998          0              1                 3                       4    0   \n",
      "999          0              2                 1                       3    0   \n",
      "\n",
      "     debtors_guarant  residence_since  property  other_installment_plans  \\\n",
      "0                  1                4         1                        3   \n",
      "1                  1                2         1                        3   \n",
      "2                  1                3         1                        3   \n",
      "3                  3                4         2                        3   \n",
      "4                  1                4         4                        3   \n",
      "..               ...              ...       ...                      ...   \n",
      "995                1                4         1                        3   \n",
      "996                1                4         2                        3   \n",
      "997                1                4         3                        3   \n",
      "998                1                4         4                        3   \n",
      "999                1                4         3                        3   \n",
      "\n",
      "     housing  nr_credits  job  nr_dependants  phone  approval  \n",
      "0          2           2    3              1      2         1  \n",
      "1          2           1    3              1      1         0  \n",
      "2          2           1    2              2      1         1  \n",
      "3          3           1    3              2      1         1  \n",
      "4          3           2    3              2      1         0  \n",
      "..       ...         ...  ...            ...    ...       ...  \n",
      "995        2           1    2              1      1         1  \n",
      "996        2           1    4              1      2         1  \n",
      "997        2           1    3              1      1         1  \n",
      "998        3           1    3              1      2         0  \n",
      "999        2           1    3              1      1         1  \n",
      "\n",
      "[1000 rows x 20 columns]\n"
     ]
    }
   ],
   "source": [
    "german_data = pd.read_csv('german_data.csv')\n",
    "print(german_data)"
   ]
  },
  {
   "cell_type": "code",
   "execution_count": 3,
   "metadata": {},
   "outputs": [],
   "source": [
    "### set sensitive attribute equal to 'SEX' or 'Age Group' ###\n",
    "\n",
    "sen_att= 'Age Group'"
   ]
  },
  {
   "cell_type": "code",
   "execution_count": 4,
   "metadata": {},
   "outputs": [],
   "source": [
    "#split data in a test and train set\n",
    "\n",
    "from sklearn.model_selection import train_test_split\n",
    "X = german_data.loc[:, german_data.columns != 'approval']\n",
    "y = german_data.loc[:, german_data.columns == 'approval']\n",
    "\n",
    "X_train, X_test, y_train, y_test = train_test_split(X, y, test_size=0.2, stratify = y, random_state=0)\n",
    "\n",
    "#apply SMOTE to the trainingset\n",
    "from imblearn.over_sampling import SMOTE\n",
    "os = SMOTE(random_state=0)\n",
    "\n",
    "columns = X_train.columns\n",
    "os_data_X, os_data_y=os.fit_sample(X_train, y_train)\n",
    "os_data_X = pd.DataFrame(data=os_data_X,columns=columns )\n",
    "os_data_y= pd.DataFrame(data=os_data_y,columns=['approval'])\n",
    "\n"
   ]
  },
  {
   "cell_type": "code",
   "execution_count": 5,
   "metadata": {},
   "outputs": [
    {
     "data": {
      "text/plain": [
       "(1120, 19)"
      ]
     },
     "execution_count": 5,
     "metadata": {},
     "output_type": "execute_result"
    }
   ],
   "source": [
    "os_data_X.shape"
   ]
  },
  {
   "cell_type": "code",
   "execution_count": 6,
   "metadata": {},
   "outputs": [
    {
     "name": "stdout",
     "output_type": "stream",
     "text": [
      "      stat_check_acc  duration_month  credit_history  purpose  credit_amount  \\\n",
      "0                  2              24               3        1           1246   \n",
      "1                  1              12               3        1            900   \n",
      "2                  4               6               3        1            672   \n",
      "3                  4              10               3        2           2848   \n",
      "4                  4              48               5       10           7629   \n",
      "...              ...             ...             ...      ...            ...   \n",
      "1115               1              24               2        4           3222   \n",
      "1116               2              33               3        1          12455   \n",
      "1117               1              20               2        6           3177   \n",
      "1118               1              12               3        6            684   \n",
      "1119               1              32               3        2           3454   \n",
      "\n",
      "      Age Group  savings_bonds  employment_since  installment_in_percent  sex  \\\n",
      "0             0              1                 2                       4    0   \n",
      "1             0              5                 3                       4    0   \n",
      "2             1              1                 1                       1    1   \n",
      "3             0              2                 3                       1    0   \n",
      "4             0              5                 5                       4    0   \n",
      "...         ...            ...               ...                     ...  ...   \n",
      "1115          0              1                 2                       4    0   \n",
      "1116          0              4                 2                       1    0   \n",
      "1117          0              1                 3                       2    0   \n",
      "1118          0              1                 3                       3    0   \n",
      "1119          0              1                 4                       3    0   \n",
      "\n",
      "      debtors_guarant  residence_since  property  other_installment_plans  \\\n",
      "0                   1                2         1                        2   \n",
      "1                   1                2         3                        3   \n",
      "2                   1                4         1                        3   \n",
      "3                   2                2         1                        3   \n",
      "4                   1                2         3                        1   \n",
      "...               ...              ...       ...                      ...   \n",
      "1115                1                3         1                        3   \n",
      "1116                1                4         4                        3   \n",
      "1117                1                2         1                        3   \n",
      "1118                1                3         3                        2   \n",
      "1119                1                2         2                        3   \n",
      "\n",
      "      housing  nr_credits  job  nr_dependants  phone  \n",
      "0           2           1    2              1      1  \n",
      "1           2           1    3              1      1  \n",
      "2           2           1    1              1      2  \n",
      "3           2           1    3              2      1  \n",
      "4           2           2    4              2      1  \n",
      "...       ...         ...  ...            ...    ...  \n",
      "1115        1           1    2              1      2  \n",
      "1116        3           1    3              1      2  \n",
      "1117        1           1    3              1      1  \n",
      "1118        1           1    2              1      1  \n",
      "1119        2           1    3              1      1  \n",
      "\n",
      "[1120 rows x 19 columns]\n"
     ]
    }
   ],
   "source": [
    "print(os_data_X)"
   ]
  },
  {
   "cell_type": "code",
   "execution_count": 7,
   "metadata": {},
   "outputs": [
    {
     "name": "stdout",
     "output_type": "stream",
     "text": [
      "length oversampled data:  1120\n",
      "check for class values:  1120\n",
      "Nr no approval 560\n",
      "Number of approval 560\n",
      "Proportion no approval  0.5\n",
      "Proportion of approval s  0.5\n"
     ]
    }
   ],
   "source": [
    "# we can Check the numbers of our data\n",
    "print(\"length oversampled data: \",len(os_data_X))\n",
    "print (\"check for class values: \",len(os_data_y))\n",
    "print(\"Nr no approval\",len(os_data_y[os_data_y['approval']==0]))\n",
    "print(\"Number of approval\",len(os_data_y[os_data_y['approval']==1]))\n",
    "print(\"Proportion no approval \",len(os_data_y[os_data_y['approval']==0])/len(os_data_X))\n",
    "print(\"Proportion of approval s \",len(os_data_y[os_data_y['approval']==1])/len(os_data_X))"
   ]
  },
  {
   "cell_type": "code",
   "execution_count": 8,
   "metadata": {},
   "outputs": [
    {
     "name": "stdout",
     "output_type": "stream",
     "text": [
      "              precision    recall  f1-score   support\n",
      "\n",
      "           0       0.64      0.77      0.70       560\n",
      "           1       0.72      0.57      0.64       560\n",
      "\n",
      "    accuracy                           0.67      1120\n",
      "   macro avg       0.68      0.67      0.67      1120\n",
      "weighted avg       0.68      0.67      0.67      1120\n",
      "\n"
     ]
    },
    {
     "name": "stderr",
     "output_type": "stream",
     "text": [
      "<ipython-input-8-cb4c76803ffd>:6: DataConversionWarning: A column-vector y was passed when a 1d array was expected. Please change the shape of y to (n_samples, ), for example using ravel().\n",
      "  knn.fit(os_data_X, os_data_y)\n"
     ]
    }
   ],
   "source": [
    "from sklearn.neighbors import NearestNeighbors\n",
    "from sklearn.neighbors import KNeighborsClassifier\n",
    "\n",
    "#Create KNN Classifier as a ranker \n",
    "knn = KNeighborsClassifier(n_neighbors = 15)\n",
    "knn.fit(os_data_X, os_data_y)\n",
    "\n",
    "from sklearn.neighbors import NearestNeighbors\n",
    "from sklearn.neighbors import KNeighborsClassifier\n",
    "y_pred = knn.predict(os_data_X)\n",
    "\n",
    "\n",
    "from sklearn.metrics import classification_report\n",
    "print(classification_report(os_data_y, y_pred))\n",
    "\n",
    "\n"
   ]
  },
  {
   "cell_type": "code",
   "execution_count": 9,
   "metadata": {},
   "outputs": [
    {
     "name": "stdout",
     "output_type": "stream",
     "text": [
      "[[433 127]\n",
      " [239 321]]\n"
     ]
    }
   ],
   "source": [
    "matrix = sklearn.metrics.confusion_matrix(os_data_y, y_pred)\n",
    "sklearn.metrics.accuracy_score(os_data_y, y_pred)\n",
    "print(matrix)"
   ]
  },
  {
   "cell_type": "code",
   "execution_count": 10,
   "metadata": {},
   "outputs": [
    {
     "name": "stdout",
     "output_type": "stream",
     "text": [
      "      stat_check_acc  duration_month  credit_history  purpose  credit_amount  \\\n",
      "0                  2              24               3        1           1246   \n",
      "1                  1              12               3        1            900   \n",
      "2                  4               6               3        1            672   \n",
      "3                  4              10               3        2           2848   \n",
      "4                  4              48               5       10           7629   \n",
      "...              ...             ...             ...      ...            ...   \n",
      "1115               1              24               2        4           3222   \n",
      "1116               2              33               3        1          12455   \n",
      "1117               1              20               2        6           3177   \n",
      "1118               1              12               3        6            684   \n",
      "1119               1              32               3        2           3454   \n",
      "\n",
      "      Age Group  savings_bonds  employment_since  installment_in_percent  sex  \\\n",
      "0             0              1                 2                       4    0   \n",
      "1             0              5                 3                       4    0   \n",
      "2             1              1                 1                       1    1   \n",
      "3             0              2                 3                       1    0   \n",
      "4             0              5                 5                       4    0   \n",
      "...         ...            ...               ...                     ...  ...   \n",
      "1115          0              1                 2                       4    0   \n",
      "1116          0              4                 2                       1    0   \n",
      "1117          0              1                 3                       2    0   \n",
      "1118          0              1                 3                       3    0   \n",
      "1119          0              1                 4                       3    0   \n",
      "\n",
      "      ...  residence_since  property  other_installment_plans  housing  \\\n",
      "0     ...                2         1                        2        2   \n",
      "1     ...                2         3                        3        2   \n",
      "2     ...                4         1                        3        2   \n",
      "3     ...                2         1                        3        2   \n",
      "4     ...                2         3                        1        2   \n",
      "...   ...              ...       ...                      ...      ...   \n",
      "1115  ...                3         1                        3        1   \n",
      "1116  ...                4         4                        3        3   \n",
      "1117  ...                2         1                        3        1   \n",
      "1118  ...                3         3                        2        1   \n",
      "1119  ...                2         2                        3        2   \n",
      "\n",
      "      nr_credits  job  nr_dependants  phone  approval      prob  \n",
      "0              1    2              1      1         0  0.466667  \n",
      "1              1    3              1      1         0  0.600000  \n",
      "2              1    1              1      2         1  0.400000  \n",
      "3              1    3              2      1         1  0.866667  \n",
      "4              2    4              2      1         1  0.333333  \n",
      "...          ...  ...            ...    ...       ...       ...  \n",
      "1115           1    2              1      2         0  0.466667  \n",
      "1116           1    3              1      2         0  0.133333  \n",
      "1117           1    3              1      1         0  0.466667  \n",
      "1118           1    2              1      1         0  0.266667  \n",
      "1119           1    3              1      1         0  0.466667  \n",
      "\n",
      "[1120 rows x 21 columns]\n"
     ]
    }
   ],
   "source": [
    "### append the ranker results to the dataset ####\n",
    "\n",
    "result = pd.concat([os_data_X, os_data_y.reindex(os_data_X.index)], axis=1)\n",
    "prob  = knn.predict_proba(os_data_X)[:,1]\n",
    "\n",
    "\n",
    "result['prob'] = prob\n",
    "print(result)\n",
    "#df_test = [os_data_X, os_data_y, df_prob]\n"
   ]
  },
  {
   "cell_type": "code",
   "execution_count": 11,
   "metadata": {},
   "outputs": [
    {
     "name": "stdout",
     "output_type": "stream",
     "text": [
      "0.6923076923076923\n",
      "0.48031496062992124\n",
      "women neg 528 women pos 488 men neg 32 men pos 72\n"
     ]
    },
    {
     "data": {
      "text/plain": [
       "0.21199273167777105"
      ]
     },
     "execution_count": 11,
     "metadata": {},
     "output_type": "execute_result"
    }
   ],
   "source": [
    "## building the discrimination formula: \n",
    "\n",
    "def disc(df, S, y, sv, nv):\n",
    "    sum_sen_neg = 0\n",
    "    sum_sen_pos = 0\n",
    "    sum_non_neg = 0\n",
    "    sum_non_pos = 0\n",
    "\n",
    "    for row in range(len(df)) :\n",
    "        if df.at[row, S] == sv and df.at[row, y] == 0:\n",
    "            sum_sen_neg +=1\n",
    "        elif df.at[row, S] == sv and df.at[row, y] == 1: \n",
    "            sum_sen_pos += 1\n",
    "        elif df.at[row, S] == nv and df.at[row, y] == 0: \n",
    "            sum_non_neg += 1\n",
    "        else:\n",
    "            sum_non_pos += 1\n",
    "        #print(sum_non_neg, sum_non_pos)\n",
    "    \n",
    "    sum_sen = sum_sen_neg + sum_sen_pos\n",
    "    sum_non = sum_non_neg + sum_non_pos\n",
    "    \n",
    "    disc_val = (abs(sum_non_pos/sum_non)-abs(sum_sen_pos/sum_sen)) \n",
    "    print(sum_non_pos/sum_non)\n",
    "    print(sum_sen_pos/sum_sen)\n",
    "    print(\"women neg\",sum_sen_neg,\"women pos\", sum_sen_pos, \"men neg\", sum_non_neg,  \"men pos\",sum_non_pos)\n",
    "    return disc_val\n",
    "\n",
    "#TEST\n",
    "disc(result, sen_att, 'approval', 0, 1)\n"
   ]
  },
  {
   "cell_type": "code",
   "execution_count": 12,
   "metadata": {},
   "outputs": [
    {
     "name": "stdout",
     "output_type": "stream",
     "text": [
      "Men count 1016\n",
      "0.6923076923076923\n",
      "0.48031496062992124\n",
      "women neg 528 women pos 488 men neg 32 men pos 72\n",
      "60\n"
     ]
    }
   ],
   "source": [
    "#sensitive value counts \n",
    "\n",
    "def count_s_val(df, S, v):\n",
    "    count = 0\n",
    "    for row in range(len(df)):\n",
    "        if df.at[row, S] == v: \n",
    "            count += 1\n",
    "        else:\n",
    "            pass\n",
    "    return count \n",
    "\n",
    "men_count = count_s_val(result, sen_att, 0)    \n",
    "print ('Men count',men_count)\n",
    "\n",
    "#define size of values for massaging M\n",
    "\n",
    "M = math.ceil(((disc(result, sen_att, 'approval', 0, 1)) * (count_s_val(result, \"approval\", 0)) *  (count_s_val(result, \"approval\", 1)))/((count_s_val(result, \"approval\", 0)) +  (count_s_val(result, \"approval\", 1))))\n",
    "print(M)"
   ]
  },
  {
   "cell_type": "code",
   "execution_count": 13,
   "metadata": {},
   "outputs": [
    {
     "data": {
      "text/html": [
       "<div>\n",
       "<style scoped>\n",
       "    .dataframe tbody tr th:only-of-type {\n",
       "        vertical-align: middle;\n",
       "    }\n",
       "\n",
       "    .dataframe tbody tr th {\n",
       "        vertical-align: top;\n",
       "    }\n",
       "\n",
       "    .dataframe thead th {\n",
       "        text-align: right;\n",
       "    }\n",
       "</style>\n",
       "<table border=\"1\" class=\"dataframe\">\n",
       "  <thead>\n",
       "    <tr style=\"text-align: right;\">\n",
       "      <th></th>\n",
       "      <th>stat_check_acc</th>\n",
       "      <th>duration_month</th>\n",
       "      <th>credit_history</th>\n",
       "      <th>purpose</th>\n",
       "      <th>credit_amount</th>\n",
       "      <th>Age Group</th>\n",
       "      <th>savings_bonds</th>\n",
       "      <th>employment_since</th>\n",
       "      <th>installment_in_percent</th>\n",
       "      <th>sex</th>\n",
       "      <th>...</th>\n",
       "      <th>residence_since</th>\n",
       "      <th>property</th>\n",
       "      <th>other_installment_plans</th>\n",
       "      <th>housing</th>\n",
       "      <th>nr_credits</th>\n",
       "      <th>job</th>\n",
       "      <th>nr_dependants</th>\n",
       "      <th>phone</th>\n",
       "      <th>approval</th>\n",
       "      <th>prob</th>\n",
       "    </tr>\n",
       "  </thead>\n",
       "  <tbody>\n",
       "    <tr>\n",
       "      <th>0</th>\n",
       "      <td>2</td>\n",
       "      <td>12</td>\n",
       "      <td>1</td>\n",
       "      <td>9</td>\n",
       "      <td>1410</td>\n",
       "      <td>0</td>\n",
       "      <td>1</td>\n",
       "      <td>3</td>\n",
       "      <td>2</td>\n",
       "      <td>0</td>\n",
       "      <td>...</td>\n",
       "      <td>2</td>\n",
       "      <td>1</td>\n",
       "      <td>3</td>\n",
       "      <td>2</td>\n",
       "      <td>1</td>\n",
       "      <td>2</td>\n",
       "      <td>1</td>\n",
       "      <td>2</td>\n",
       "      <td>1</td>\n",
       "      <td>1.000000</td>\n",
       "    </tr>\n",
       "    <tr>\n",
       "      <th>1</th>\n",
       "      <td>2</td>\n",
       "      <td>14</td>\n",
       "      <td>3</td>\n",
       "      <td>10</td>\n",
       "      <td>1410</td>\n",
       "      <td>0</td>\n",
       "      <td>3</td>\n",
       "      <td>5</td>\n",
       "      <td>1</td>\n",
       "      <td>0</td>\n",
       "      <td>...</td>\n",
       "      <td>2</td>\n",
       "      <td>1</td>\n",
       "      <td>3</td>\n",
       "      <td>2</td>\n",
       "      <td>1</td>\n",
       "      <td>3</td>\n",
       "      <td>1</td>\n",
       "      <td>2</td>\n",
       "      <td>1</td>\n",
       "      <td>1.000000</td>\n",
       "    </tr>\n",
       "    <tr>\n",
       "      <th>2</th>\n",
       "      <td>1</td>\n",
       "      <td>15</td>\n",
       "      <td>3</td>\n",
       "      <td>1</td>\n",
       "      <td>1403</td>\n",
       "      <td>0</td>\n",
       "      <td>1</td>\n",
       "      <td>3</td>\n",
       "      <td>2</td>\n",
       "      <td>1</td>\n",
       "      <td>...</td>\n",
       "      <td>4</td>\n",
       "      <td>3</td>\n",
       "      <td>3</td>\n",
       "      <td>1</td>\n",
       "      <td>1</td>\n",
       "      <td>3</td>\n",
       "      <td>1</td>\n",
       "      <td>1</td>\n",
       "      <td>1</td>\n",
       "      <td>1.000000</td>\n",
       "    </tr>\n",
       "    <tr>\n",
       "      <th>3</th>\n",
       "      <td>4</td>\n",
       "      <td>12</td>\n",
       "      <td>5</td>\n",
       "      <td>10</td>\n",
       "      <td>1412</td>\n",
       "      <td>0</td>\n",
       "      <td>1</td>\n",
       "      <td>3</td>\n",
       "      <td>4</td>\n",
       "      <td>1</td>\n",
       "      <td>...</td>\n",
       "      <td>2</td>\n",
       "      <td>1</td>\n",
       "      <td>3</td>\n",
       "      <td>2</td>\n",
       "      <td>2</td>\n",
       "      <td>4</td>\n",
       "      <td>1</td>\n",
       "      <td>2</td>\n",
       "      <td>1</td>\n",
       "      <td>1.000000</td>\n",
       "    </tr>\n",
       "    <tr>\n",
       "      <th>4</th>\n",
       "      <td>4</td>\n",
       "      <td>24</td>\n",
       "      <td>3</td>\n",
       "      <td>4</td>\n",
       "      <td>1413</td>\n",
       "      <td>0</td>\n",
       "      <td>1</td>\n",
       "      <td>3</td>\n",
       "      <td>4</td>\n",
       "      <td>0</td>\n",
       "      <td>...</td>\n",
       "      <td>2</td>\n",
       "      <td>2</td>\n",
       "      <td>3</td>\n",
       "      <td>2</td>\n",
       "      <td>1</td>\n",
       "      <td>3</td>\n",
       "      <td>1</td>\n",
       "      <td>1</td>\n",
       "      <td>1</td>\n",
       "      <td>1.000000</td>\n",
       "    </tr>\n",
       "    <tr>\n",
       "      <th>...</th>\n",
       "      <td>...</td>\n",
       "      <td>...</td>\n",
       "      <td>...</td>\n",
       "      <td>...</td>\n",
       "      <td>...</td>\n",
       "      <td>...</td>\n",
       "      <td>...</td>\n",
       "      <td>...</td>\n",
       "      <td>...</td>\n",
       "      <td>...</td>\n",
       "      <td>...</td>\n",
       "      <td>...</td>\n",
       "      <td>...</td>\n",
       "      <td>...</td>\n",
       "      <td>...</td>\n",
       "      <td>...</td>\n",
       "      <td>...</td>\n",
       "      <td>...</td>\n",
       "      <td>...</td>\n",
       "      <td>...</td>\n",
       "      <td>...</td>\n",
       "    </tr>\n",
       "    <tr>\n",
       "      <th>1115</th>\n",
       "      <td>2</td>\n",
       "      <td>54</td>\n",
       "      <td>1</td>\n",
       "      <td>10</td>\n",
       "      <td>15779</td>\n",
       "      <td>1</td>\n",
       "      <td>1</td>\n",
       "      <td>2</td>\n",
       "      <td>3</td>\n",
       "      <td>0</td>\n",
       "      <td>...</td>\n",
       "      <td>4</td>\n",
       "      <td>4</td>\n",
       "      <td>2</td>\n",
       "      <td>1</td>\n",
       "      <td>1</td>\n",
       "      <td>3</td>\n",
       "      <td>1</td>\n",
       "      <td>2</td>\n",
       "      <td>0</td>\n",
       "      <td>0.266667</td>\n",
       "    </tr>\n",
       "    <tr>\n",
       "      <th>1116</th>\n",
       "      <td>2</td>\n",
       "      <td>57</td>\n",
       "      <td>1</td>\n",
       "      <td>10</td>\n",
       "      <td>15307</td>\n",
       "      <td>1</td>\n",
       "      <td>1</td>\n",
       "      <td>3</td>\n",
       "      <td>3</td>\n",
       "      <td>0</td>\n",
       "      <td>...</td>\n",
       "      <td>4</td>\n",
       "      <td>4</td>\n",
       "      <td>1</td>\n",
       "      <td>2</td>\n",
       "      <td>1</td>\n",
       "      <td>3</td>\n",
       "      <td>1</td>\n",
       "      <td>2</td>\n",
       "      <td>0</td>\n",
       "      <td>0.266667</td>\n",
       "    </tr>\n",
       "    <tr>\n",
       "      <th>1117</th>\n",
       "      <td>2</td>\n",
       "      <td>48</td>\n",
       "      <td>4</td>\n",
       "      <td>7</td>\n",
       "      <td>6224</td>\n",
       "      <td>1</td>\n",
       "      <td>1</td>\n",
       "      <td>5</td>\n",
       "      <td>4</td>\n",
       "      <td>0</td>\n",
       "      <td>...</td>\n",
       "      <td>4</td>\n",
       "      <td>4</td>\n",
       "      <td>3</td>\n",
       "      <td>3</td>\n",
       "      <td>1</td>\n",
       "      <td>3</td>\n",
       "      <td>1</td>\n",
       "      <td>1</td>\n",
       "      <td>0</td>\n",
       "      <td>0.200000</td>\n",
       "    </tr>\n",
       "    <tr>\n",
       "      <th>1118</th>\n",
       "      <td>2</td>\n",
       "      <td>27</td>\n",
       "      <td>3</td>\n",
       "      <td>7</td>\n",
       "      <td>2723</td>\n",
       "      <td>1</td>\n",
       "      <td>2</td>\n",
       "      <td>4</td>\n",
       "      <td>4</td>\n",
       "      <td>0</td>\n",
       "      <td>...</td>\n",
       "      <td>2</td>\n",
       "      <td>3</td>\n",
       "      <td>1</td>\n",
       "      <td>1</td>\n",
       "      <td>1</td>\n",
       "      <td>2</td>\n",
       "      <td>1</td>\n",
       "      <td>1</td>\n",
       "      <td>0</td>\n",
       "      <td>0.200000</td>\n",
       "    </tr>\n",
       "    <tr>\n",
       "      <th>1119</th>\n",
       "      <td>4</td>\n",
       "      <td>60</td>\n",
       "      <td>5</td>\n",
       "      <td>1</td>\n",
       "      <td>13756</td>\n",
       "      <td>1</td>\n",
       "      <td>5</td>\n",
       "      <td>5</td>\n",
       "      <td>2</td>\n",
       "      <td>0</td>\n",
       "      <td>...</td>\n",
       "      <td>4</td>\n",
       "      <td>4</td>\n",
       "      <td>1</td>\n",
       "      <td>3</td>\n",
       "      <td>1</td>\n",
       "      <td>4</td>\n",
       "      <td>1</td>\n",
       "      <td>2</td>\n",
       "      <td>1</td>\n",
       "      <td>0.133333</td>\n",
       "    </tr>\n",
       "  </tbody>\n",
       "</table>\n",
       "<p>1120 rows × 21 columns</p>\n",
       "</div>"
      ],
      "text/plain": [
       "      stat_check_acc  duration_month  credit_history  purpose  credit_amount  \\\n",
       "0                  2              12               1        9           1410   \n",
       "1                  2              14               3       10           1410   \n",
       "2                  1              15               3        1           1403   \n",
       "3                  4              12               5       10           1412   \n",
       "4                  4              24               3        4           1413   \n",
       "...              ...             ...             ...      ...            ...   \n",
       "1115               2              54               1       10          15779   \n",
       "1116               2              57               1       10          15307   \n",
       "1117               2              48               4        7           6224   \n",
       "1118               2              27               3        7           2723   \n",
       "1119               4              60               5        1          13756   \n",
       "\n",
       "      Age Group  savings_bonds  employment_since  installment_in_percent  sex  \\\n",
       "0             0              1                 3                       2    0   \n",
       "1             0              3                 5                       1    0   \n",
       "2             0              1                 3                       2    1   \n",
       "3             0              1                 3                       4    1   \n",
       "4             0              1                 3                       4    0   \n",
       "...         ...            ...               ...                     ...  ...   \n",
       "1115          1              1                 2                       3    0   \n",
       "1116          1              1                 3                       3    0   \n",
       "1117          1              1                 5                       4    0   \n",
       "1118          1              2                 4                       4    0   \n",
       "1119          1              5                 5                       2    0   \n",
       "\n",
       "      ...  residence_since  property  other_installment_plans  housing  \\\n",
       "0     ...                2         1                        3        2   \n",
       "1     ...                2         1                        3        2   \n",
       "2     ...                4         3                        3        1   \n",
       "3     ...                2         1                        3        2   \n",
       "4     ...                2         2                        3        2   \n",
       "...   ...              ...       ...                      ...      ...   \n",
       "1115  ...                4         4                        2        1   \n",
       "1116  ...                4         4                        1        2   \n",
       "1117  ...                4         4                        3        3   \n",
       "1118  ...                2         3                        1        1   \n",
       "1119  ...                4         4                        1        3   \n",
       "\n",
       "      nr_credits  job  nr_dependants  phone  approval      prob  \n",
       "0              1    2              1      2         1  1.000000  \n",
       "1              1    3              1      2         1  1.000000  \n",
       "2              1    3              1      1         1  1.000000  \n",
       "3              2    4              1      2         1  1.000000  \n",
       "4              1    3              1      1         1  1.000000  \n",
       "...          ...  ...            ...    ...       ...       ...  \n",
       "1115           1    3              1      2         0  0.266667  \n",
       "1116           1    3              1      2         0  0.266667  \n",
       "1117           1    3              1      1         0  0.200000  \n",
       "1118           1    2              1      1         0  0.200000  \n",
       "1119           1    4              1      2         1  0.133333  \n",
       "\n",
       "[1120 rows x 21 columns]"
      ]
     },
     "execution_count": 13,
     "metadata": {},
     "output_type": "execute_result"
    }
   ],
   "source": [
    "# organise the results in descending order \n",
    "result_sorted = result.sort_values(by=[sen_att, 'prob'], ascending=[True, False], ignore_index=True)\n",
    "result_sorted"
   ]
  },
  {
   "cell_type": "code",
   "execution_count": 14,
   "metadata": {},
   "outputs": [
    {
     "name": "stdout",
     "output_type": "stream",
     "text": [
      "61\n",
      "      stat_check_acc  duration_month  credit_history  purpose  credit_amount  \\\n",
      "0                  2              12               1        9           1410   \n",
      "1                  2              14               3       10           1410   \n",
      "2                  1              15               3        1           1403   \n",
      "3                  4              12               5       10           1412   \n",
      "4                  4              24               3        4           1413   \n",
      "...              ...             ...             ...      ...            ...   \n",
      "1115               2              54               1       10          15779   \n",
      "1116               2              57               1       10          15307   \n",
      "1117               2              48               4        7           6224   \n",
      "1118               2              27               3        7           2723   \n",
      "1119               4              60               5        1          13756   \n",
      "\n",
      "      Age Group  savings_bonds  employment_since  installment_in_percent  sex  \\\n",
      "0             0              1                 3                       2    0   \n",
      "1             0              3                 5                       1    0   \n",
      "2             0              1                 3                       2    1   \n",
      "3             0              1                 3                       4    1   \n",
      "4             0              1                 3                       4    0   \n",
      "...         ...            ...               ...                     ...  ...   \n",
      "1115          1              1                 2                       3    0   \n",
      "1116          1              1                 3                       3    0   \n",
      "1117          1              1                 5                       4    0   \n",
      "1118          1              2                 4                       4    0   \n",
      "1119          1              5                 5                       2    0   \n",
      "\n",
      "      ...  residence_since  property  other_installment_plans  housing  \\\n",
      "0     ...                2         1                        3        2   \n",
      "1     ...                2         1                        3        2   \n",
      "2     ...                4         3                        3        1   \n",
      "3     ...                2         1                        3        2   \n",
      "4     ...                2         2                        3        2   \n",
      "...   ...              ...       ...                      ...      ...   \n",
      "1115  ...                4         4                        2        1   \n",
      "1116  ...                4         4                        1        2   \n",
      "1117  ...                4         4                        3        3   \n",
      "1118  ...                2         3                        1        1   \n",
      "1119  ...                4         4                        1        3   \n",
      "\n",
      "      nr_credits  job  nr_dependants  phone  approval      prob  \n",
      "0              1    2              1      2         1  1.000000  \n",
      "1              1    3              1      2         1  1.000000  \n",
      "2              1    3              1      1         1  1.000000  \n",
      "3              2    4              1      2         1  1.000000  \n",
      "4              1    3              1      1         1  1.000000  \n",
      "...          ...  ...            ...    ...       ...       ...  \n",
      "1115           1    3              1      2         0  0.266667  \n",
      "1116           1    3              1      2         0  0.266667  \n",
      "1117           1    3              1      1         0  0.200000  \n",
      "1118           1    2              1      1         0  0.200000  \n",
      "1119           1    4              1      2         1  0.133333  \n",
      "\n",
      "[1120 rows x 21 columns]\n"
     ]
    }
   ],
   "source": [
    "### applying massaging for the minorty class to transform to a positive output \n",
    "\n",
    "i = 0\n",
    "for row in range(len(result_sorted)):\n",
    "    \n",
    "    if i <= M and result_sorted.at[row, sen_att] == 0 and result_sorted.at[row, \"approval\"] == 0:\n",
    "        result_sorted.at[row, 'approval'] = 1 \n",
    "        i += 1\n",
    "    else:\n",
    "        pass \n",
    "print (i)\n",
    "\n",
    "print (result_sorted)"
   ]
  },
  {
   "cell_type": "code",
   "execution_count": 15,
   "metadata": {},
   "outputs": [
    {
     "name": "stdout",
     "output_type": "stream",
     "text": [
      "      stat_check_acc  duration_month  credit_history  purpose  credit_amount  \\\n",
      "0                  4              60               5        1          13756   \n",
      "1                  2              48               4        7           6224   \n",
      "2                  2              27               3        7           2723   \n",
      "3                  1               6               3        1          14896   \n",
      "4                  4              12               5        1            682   \n",
      "...              ...             ...             ...      ...            ...   \n",
      "1115               1              15               3        1           1403   \n",
      "1116               4              12               5       10           1412   \n",
      "1117               4              24               3        4           1413   \n",
      "1118               2               8               3        4           1414   \n",
      "1119               4              24               5        4           2872   \n",
      "\n",
      "      Age Group  savings_bonds  employment_since  installment_in_percent  sex  \\\n",
      "0             1              5                 5                       2    0   \n",
      "1             1              1                 5                       4    0   \n",
      "2             1              2                 4                       4    0   \n",
      "3             1              1                 5                       1    0   \n",
      "4             1              2                 4                       4    1   \n",
      "...         ...            ...               ...                     ...  ...   \n",
      "1115          0              1                 3                       2    1   \n",
      "1116          0              1                 3                       4    1   \n",
      "1117          0              1                 3                       4    0   \n",
      "1118          0              1                 3                       4    0   \n",
      "1119          0              2                 5                       3    0   \n",
      "\n",
      "      ...  residence_since  property  other_installment_plans  housing  \\\n",
      "0     ...                4         4                        1        3   \n",
      "1     ...                4         4                        3        3   \n",
      "2     ...                2         3                        1        1   \n",
      "3     ...                4         4                        1        2   \n",
      "4     ...                3         3                        3        2   \n",
      "...   ...              ...       ...                      ...      ...   \n",
      "1115  ...                4         3                        3        1   \n",
      "1116  ...                2         1                        3        2   \n",
      "1117  ...                2         2                        3        2   \n",
      "1118  ...                2         1                        3        2   \n",
      "1119  ...                4         1                        3        2   \n",
      "\n",
      "      nr_credits  job  nr_dependants  phone  approval      prob  \n",
      "0              1    4              1      2         1  0.133333  \n",
      "1              1    3              1      1         0  0.200000  \n",
      "2              1    2              1      1         0  0.200000  \n",
      "3              1    4              1      2         0  0.266667  \n",
      "4              2    3              1      2         1  0.266667  \n",
      "...          ...  ...            ...    ...       ...       ...  \n",
      "1115           1    3              1      1         1  1.000000  \n",
      "1116           2    4              1      2         1  1.000000  \n",
      "1117           1    3              1      1         1  1.000000  \n",
      "1118           1    3              1      1         1  1.000000  \n",
      "1119           1    3              2      2         1  1.000000  \n",
      "\n",
      "[1120 rows x 21 columns]\n"
     ]
    }
   ],
   "source": [
    "## resorting the dataset to change the unportected group to a negative classification\n",
    "\n",
    "\n",
    "result_sorted_2 = result_sorted.sort_values(by=[sen_att, 'prob'], ascending=[False, True], ignore_index=True)\n",
    "print(result_sorted_2)"
   ]
  },
  {
   "cell_type": "code",
   "execution_count": 16,
   "metadata": {},
   "outputs": [
    {
     "name": "stdout",
     "output_type": "stream",
     "text": [
      "61\n",
      "      stat_check_acc  duration_month  credit_history  purpose  credit_amount  \\\n",
      "0                  4              60               5        1          13756   \n",
      "1                  2              48               4        7           6224   \n",
      "2                  2              27               3        7           2723   \n",
      "3                  1               6               3        1          14896   \n",
      "4                  4              12               5        1            682   \n",
      "...              ...             ...             ...      ...            ...   \n",
      "1115               1              15               3        1           1403   \n",
      "1116               4              12               5       10           1412   \n",
      "1117               4              24               3        4           1413   \n",
      "1118               2               8               3        4           1414   \n",
      "1119               4              24               5        4           2872   \n",
      "\n",
      "      Age Group  savings_bonds  employment_since  installment_in_percent  sex  \\\n",
      "0             1              5                 5                       2    0   \n",
      "1             1              1                 5                       4    0   \n",
      "2             1              2                 4                       4    0   \n",
      "3             1              1                 5                       1    0   \n",
      "4             1              2                 4                       4    1   \n",
      "...         ...            ...               ...                     ...  ...   \n",
      "1115          0              1                 3                       2    1   \n",
      "1116          0              1                 3                       4    1   \n",
      "1117          0              1                 3                       4    0   \n",
      "1118          0              1                 3                       4    0   \n",
      "1119          0              2                 5                       3    0   \n",
      "\n",
      "      ...  residence_since  property  other_installment_plans  housing  \\\n",
      "0     ...                4         4                        1        3   \n",
      "1     ...                4         4                        3        3   \n",
      "2     ...                2         3                        1        1   \n",
      "3     ...                4         4                        1        2   \n",
      "4     ...                3         3                        3        2   \n",
      "...   ...              ...       ...                      ...      ...   \n",
      "1115  ...                4         3                        3        1   \n",
      "1116  ...                2         1                        3        2   \n",
      "1117  ...                2         2                        3        2   \n",
      "1118  ...                2         1                        3        2   \n",
      "1119  ...                4         1                        3        2   \n",
      "\n",
      "      nr_credits  job  nr_dependants  phone  approval      prob  \n",
      "0              1    4              1      2         0  0.133333  \n",
      "1              1    3              1      1         0  0.200000  \n",
      "2              1    2              1      1         0  0.200000  \n",
      "3              1    4              1      2         0  0.266667  \n",
      "4              2    3              1      2         0  0.266667  \n",
      "...          ...  ...            ...    ...       ...       ...  \n",
      "1115           1    3              1      1         1  1.000000  \n",
      "1116           2    4              1      2         1  1.000000  \n",
      "1117           1    3              1      1         1  1.000000  \n",
      "1118           1    3              1      1         1  1.000000  \n",
      "1119           1    3              2      2         1  1.000000  \n",
      "\n",
      "[1120 rows x 21 columns]\n"
     ]
    }
   ],
   "source": [
    "## sorting to create negative values for the unprotected group\n",
    "\n",
    "i = 0\n",
    "for row in range(len(result_sorted_2)):\n",
    "    \n",
    "    if i <= M and result_sorted_2.at[row, sen_att] == 1 and result_sorted_2.at[row, \"approval\"] == 1:\n",
    "        result_sorted_2.at[row, 'approval'] = 0 \n",
    "        i += 1\n",
    "    else:\n",
    "        pass \n",
    "print (i)\n",
    "\n",
    "print (result_sorted_2)"
   ]
  },
  {
   "cell_type": "code",
   "execution_count": null,
   "metadata": {},
   "outputs": [],
   "source": []
  },
  {
   "cell_type": "markdown",
   "metadata": {},
   "source": [
    "### visualisations of what happens to the data"
   ]
  },
  {
   "cell_type": "code",
   "execution_count": 17,
   "metadata": {},
   "outputs": [
    {
     "data": {
      "text/plain": [
       "<matplotlib.axes._subplots.AxesSubplot at 0x21f3f6b38e0>"
      ]
     },
     "execution_count": 17,
     "metadata": {},
     "output_type": "execute_result"
    },
    {
     "data": {
      "image/png": "[encoded data removed]",
      "text/plain": [
       "<Figure size 504x216 with 1 Axes>"
      ]
     },
     "metadata": {},
     "output_type": "display_data"
    }
   ],
   "source": [
    "f, ax = plt.subplots(figsize=(7, 3))\n",
    "sns.countplot(y='approval', hue =sen_att, data=german_data, color=\"c\")"
   ]
  },
  {
   "cell_type": "code",
   "execution_count": 18,
   "metadata": {},
   "outputs": [
    {
     "data": {
      "text/plain": [
       "<matplotlib.axes._subplots.AxesSubplot at 0x21f3f69dfd0>"
      ]
     },
     "execution_count": 18,
     "metadata": {},
     "output_type": "execute_result"
    },
    {
     "data": {
      "image/png": "[encoded data removed]",
      "text/plain": [
       "<Figure size 504x216 with 1 Axes>"
      ]
     },
     "metadata": {},
     "output_type": "display_data"
    }
   ],
   "source": [
    "f, ax = plt.subplots(figsize=(7, 3))\n",
    "sns.countplot(y='approval', hue =sen_att, data=result, color=\"c\")"
   ]
  },
  {
   "cell_type": "code",
   "execution_count": 19,
   "metadata": {},
   "outputs": [
    {
     "data": {
      "text/plain": [
       "<matplotlib.axes._subplots.AxesSubplot at 0x21f3f7eb850>"
      ]
     },
     "execution_count": 19,
     "metadata": {},
     "output_type": "execute_result"
    },
    {
     "data": {
      "image/png": "[encoded data removed]",
      "text/plain": [
       "<Figure size 504x216 with 1 Axes>"
      ]
     },
     "metadata": {},
     "output_type": "display_data"
    }
   ],
   "source": [
    "f, ax = plt.subplots(figsize=(7, 3))\n",
    "sns.countplot(y='approval', hue =sen_att, data=result_sorted, color=\"c\")"
   ]
  },
  {
   "cell_type": "code",
   "execution_count": 20,
   "metadata": {},
   "outputs": [
    {
     "data": {
      "text/plain": [
       "<matplotlib.axes._subplots.AxesSubplot at 0x21f3f842580>"
      ]
     },
     "execution_count": 20,
     "metadata": {},
     "output_type": "execute_result"
    },
    {
     "data": {
      "image/png": "[encoded data removed]",
      "text/plain": [
       "<Figure size 504x216 with 1 Axes>"
      ]
     },
     "metadata": {},
     "output_type": "display_data"
    }
   ],
   "source": [
    "f, ax = plt.subplots(figsize=(7, 3))\n",
    "sns.countplot(y='approval', hue =sen_att, data=result_sorted_2, color=\"c\")"
   ]
  },
  {
   "cell_type": "code",
   "execution_count": 21,
   "metadata": {},
   "outputs": [
    {
     "data": {
      "text/plain": [
       "(200, 19)"
      ]
     },
     "execution_count": 21,
     "metadata": {},
     "output_type": "execute_result"
    }
   ],
   "source": [
    "from sklearn.linear_model import LogisticRegression\n",
    "from sklearn.preprocessing import StandardScaler\n",
    "from sklearn.metrics import roc_curve\n",
    "from sklearn.preprocessing import minmax_scale\n",
    "from sklearn.preprocessing import MaxAbsScaler\n",
    "\n",
    "\n",
    "X_train = result_sorted_2.loc[:, result_sorted_2.columns != 'approval']\n",
    "y_train = result_sorted_2.loc[:, result_sorted_2.columns =='approval']\n",
    "\n",
    "del X_train[\"prob\"]\n",
    "\n",
    "y_train =y_train.to_numpy()\n",
    "\n",
    "y_train = y_train.ravel()\n",
    "\n",
    "logit = LogisticRegression(penalty='l2', solver = 'liblinear', max_iter = 5000)\n",
    "#logit = LogisticRegression()\n",
    "logit.fit(X_train, y_train)\n",
    "\n",
    "\n",
    "X_test.shape"
   ]
  },
  {
   "cell_type": "code",
   "execution_count": 22,
   "metadata": {},
   "outputs": [
    {
     "name": "stdout",
     "output_type": "stream",
     "text": [
      "[[ 33  27]\n",
      " [ 38 102]]\n"
     ]
    }
   ],
   "source": [
    "\n",
    "y_pred =  logit.predict(X_test)\n",
    "\n",
    "\n",
    "from sklearn.metrics import classification_report\n",
    "\n",
    "\n",
    "matrix = sklearn.metrics.confusion_matrix(y_test, y_pred)\n",
    "sklearn.metrics.accuracy_score(y_test, y_pred)\n",
    "print(matrix)"
   ]
  },
  {
   "cell_type": "code",
   "execution_count": null,
   "metadata": {},
   "outputs": [],
   "source": []
  },
  {
   "cell_type": "code",
   "execution_count": 23,
   "metadata": {},
   "outputs": [
    {
     "name": "stdout",
     "output_type": "stream",
     "text": [
      "              precision    recall  f1-score   support\n",
      "\n",
      "           0       0.46      0.55      0.50        60\n",
      "           1       0.79      0.73      0.76       140\n",
      "\n",
      "    accuracy                           0.68       200\n",
      "   macro avg       0.63      0.64      0.63       200\n",
      "weighted avg       0.69      0.68      0.68       200\n",
      "\n"
     ]
    }
   ],
   "source": [
    "print(classification_report(y_test, y_pred))"
   ]
  },
  {
   "cell_type": "code",
   "execution_count": 24,
   "metadata": {},
   "outputs": [],
   "source": [
    "privileged_groups = [{sen_att: 0}]\n",
    "unprivileged_groups = [{sen_att: 1}]\n"
   ]
  },
  {
   "cell_type": "code",
   "execution_count": 25,
   "metadata": {},
   "outputs": [],
   "source": [
    "fair_test_df = pd.concat([X_test, y_test], axis=1, join=\"inner\")"
   ]
  },
  {
   "cell_type": "code",
   "execution_count": 26,
   "metadata": {},
   "outputs": [
    {
     "name": "stdout",
     "output_type": "stream",
     "text": [
      "Balanced accuracy = 0.6393\n",
      "Statistical parity difference = -0.6856\n",
      "Disparate impact = 0.0573\n",
      "Average odds difference = -0.6365\n",
      "Equal opportunity difference = -0.7821\n",
      "Theil index = 0.2546\n"
     ]
    }
   ],
   "source": [
    "# Metrics function\n",
    "from collections import OrderedDict\n",
    "from aif360.datasets import StandardDataset\n",
    "from aif360.metrics import BinaryLabelDatasetMetric, ClassificationMetric\n",
    "\n",
    "dataset = StandardDataset(fair_test_df, \n",
    "                          label_name='approval', \n",
    "                          favorable_classes=[1], \n",
    "                          protected_attribute_names=[sen_att], \n",
    "                          privileged_classes=[[0]])\n",
    "\n",
    "def fair_metrics(dataset, y_pred, disp = True):\n",
    "    dataset_pred =dataset.copy()\n",
    "    dataset_pred.labels = y_pred\n",
    "        \n",
    "    attr = dataset_pred.protected_attribute_names[0]\n",
    "    \n",
    "    idx = dataset_pred.protected_attribute_names.index(attr)\n",
    "    privileged_groups =  [{attr:dataset_pred.privileged_protected_attributes[idx][0]}] \n",
    "    unprivileged_groups = [{attr:dataset_pred.unprivileged_protected_attributes[idx][0]}] \n",
    "\n",
    "    classified_metric_pred = ClassificationMetric(dataset, dataset_pred, unprivileged_groups=unprivileged_groups, privileged_groups=privileged_groups)\n",
    "\n",
    "    metric_pred = BinaryLabelDatasetMetric(dataset_pred, unprivileged_groups=unprivileged_groups, privileged_groups=privileged_groups)\n",
    "\n",
    "    metrics = OrderedDict()\n",
    "    metrics[\"Balanced accuracy\"] = 0.5*(classified_metric_pred.true_positive_rate()+\n",
    "                                             classified_metric_pred.true_negative_rate())\n",
    "    metrics[\"Statistical parity difference\"] = classified_metric_pred.statistical_parity_difference()\n",
    "    metrics[\"Disparate impact\"] = classified_metric_pred.disparate_impact()\n",
    "    metrics[\"Average odds difference\"] = classified_metric_pred.average_odds_difference()\n",
    "    metrics[\"Equal opportunity difference\"] = classified_metric_pred.equal_opportunity_difference()\n",
    "    metrics[\"Theil index\"] = classified_metric_pred.theil_index()\n",
    "        \n",
    "    if disp:\n",
    "        for k in metrics:\n",
    "            print(\"%s = %.4f\" % (k, metrics[k]))\n",
    "\n",
    "\n",
    "fair_metrics(dataset, y_pred)"
   ]
  },
  {
   "cell_type": "code",
   "execution_count": null,
   "metadata": {},
   "outputs": [],
   "source": []
  }
 ],
 "metadata": {
  "kernelspec": {
   "display_name": "Python 3",
   "language": "python",
   "name": "python3"
  },
  "language_info": {
   "codemirror_mode": {
    "name": "ipython",
    "version": 3
   },
   "file_extension": ".py",
   "mimetype": "text/x-python",
   "name": "python",
   "nbconvert_exporter": "python",
   "pygments_lexer": "ipython3",
   "version": "3.8.3"
  }
 },
 "nbformat": 4,
 "nbformat_minor": 4
}
